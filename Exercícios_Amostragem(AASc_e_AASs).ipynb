{
  "nbformat": 4,
  "nbformat_minor": 0,
  "metadata": {
    "colab": {
      "provenance": [],
      "authorship_tag": "ABX9TyPGOieypZ7bryxuK84rtpmV",
      "include_colab_link": true
    },
    "kernelspec": {
      "name": "ir",
      "display_name": "R"
    },
    "language_info": {
      "name": "R"
    }
  },
  "cells": [
    {
      "cell_type": "markdown",
      "metadata": {
        "id": "view-in-github",
        "colab_type": "text"
      },
      "source": [
        "<a href=\"https://colab.research.google.com/github/emanuel379/Tecnicas-de-Amostragem/blob/main/Exerc%C3%ADcios_Amostragem(AASc_e_AASs).ipynb\" target=\"_parent\"><img src=\"https://colab.research.google.com/assets/colab-badge.svg\" alt=\"Open In Colab\"/></a>"
      ]
    },
    {
      "cell_type": "markdown",
      "source": [
        "**1)** Suponha que em uma eleição para prefeito de uma determinada cidade há 4 candidatos concorrendo: C1,\n",
        "C2, C3 e C4. Estamos interessados em estimar a proporção de votos favoráveis para cada candidato,\n",
        "Brancos/Nulos (B/N) e indecisos (I). O número total de eleitores no município é N = 60.000. Com base\n",
        "nas informações, responda os itens abaixo:"
      ],
      "metadata": {
        "id": "82uY_WgjuS6b"
      }
    },
    {
      "cell_type": "markdown",
      "source": [
        "**Plano AASs:**"
      ],
      "metadata": {
        "id": "FE-j50qcu3DV"
      }
    },
    {
      "cell_type": "markdown",
      "source": [
        "**a)** Calcule o tamanho da amostra que deve ser coletada para assegurar um erro máximo de 2% na\n",
        "estimação da verdadeira proporção de eleitores favoráveis a um determinado candidato. Considere\n",
        "α = 5%.\n"
      ],
      "metadata": {
        "id": "rokjy-tJu5Rj"
      }
    },
    {
      "cell_type": "code",
      "execution_count": 64,
      "metadata": {
        "colab": {
          "base_uri": "https://localhost:8080/"
        },
        "id": "YFCU-FaZuJJA",
        "outputId": "e2b84a85-e7b2-42b4-8d1a-970750e857ec"
      },
      "outputs": [
        {
          "output_type": "stream",
          "name": "stdout",
          "text": [
            "O tamanho amostral que nos garante um erro máximo de 2% é de 2309 \n"
          ]
        }
      ],
      "source": [
        "# Definindo as informações de interesse\n",
        "B <- 0.02  # Erro máximo permitido\n",
        "N <- 60000  # Tamanho da população\n",
        "alpha <- 0.05  # Nível de significância\n",
        "\n",
        "# Calculando o valor de z para o dado nível de significância\n",
        "z <- qnorm(1 - alpha / 2)  # Função distribuição acumulada inversa\n",
        "\n",
        "# Calculando o tamanho da amostra\n",
        "n <- N / ((4 * (N - 1) * B^2) / (z^2) + 1)\n",
        "\n",
        "# Imprimindo tamanho da amostra arredondado para o número inteiro mais elevado\n",
        "cat(\"O tamanho amostral que nos garante um erro máximo de 2% é de\", round(n), \"\\n\")"
      ]
    },
    {
      "cell_type": "markdown",
      "source": [
        "**b)** Considerando uma margem de erro de 2%, uma amostra de tamanho n = 3000 foi coletada (fixar\n",
        "semente). Obtenha a intenção de voto para cada candidado, incluíndo Brancos/Nulos e indecisos,\n",
        "juntamente com os seus respectivos intervalos com 95% de confiança.\n"
      ],
      "metadata": {
        "id": "VFwuTKX2vIDE"
      }
    },
    {
      "cell_type": "code",
      "source": [
        "set.seed(2024)\n",
        "\n",
        "# Definindo as opções\n",
        "options <- c('C1', 'C2', 'C3', 'C4', 'B e N', 'I')\n",
        "\n",
        "# Considerando as probabilidades baseadas em sexo\n",
        "probs_male <- c(0.26, 0.15, 0.22, 0.19, 0.15, 0.03)\n",
        "probs_female <- c(0.21, 0.17, 0.36, 0.14, 0.10, 0.02)\n",
        "\n",
        "# Garantindo que as probabilidades somem 1\n",
        "stopifnot(sum(probs_male) == 1)\n",
        "stopifnot(sum(probs_female) == 1)\n",
        "\n",
        "# Definindo a distribuição por sexo\n",
        "N <- 60000\n",
        "male_count <- as.integer(N * 0.482)\n",
        "female_count <- as.integer(N * 0.518)\n",
        "sex_distribution <- c(rep('M', male_count), rep('F', female_count))\n",
        "sex_distribution <- sample(sex_distribution)\n",
        "\n",
        "# Simulando o processo de votação\n",
        "votes <- sapply(sex_distribution, function(sex) {\n",
        "  if (sex == 'M') {\n",
        "    sample(options, 1, prob = probs_male)\n",
        "  } else {\n",
        "    sample(options, 1, prob = probs_female)\n",
        "  }\n",
        "})\n",
        "\n",
        "# Contando os votos para cada opção\n",
        "vote_counts <- table(votes)\n",
        "\n",
        "# Imprimindo os resultados\n",
        "cat(\"Contagem de votos:\\n\")\n",
        "for (option in options) {\n",
        "  cat(option, \":\", vote_counts[option], \"\\n\")\n",
        "}\n",
        "\n",
        "# Calculando as proporções\n",
        "vote_proportions <- vote_counts / N\n",
        "\n",
        "# Imprimindo as proporções\n",
        "cat(\"Proporção de votos:\\n\")\n",
        "for (option in options) {\n",
        "  cat(option, \":\", round(vote_proportions[option], 4), \"\\n\")\n",
        "}"
      ],
      "metadata": {
        "colab": {
          "base_uri": "https://localhost:8080/"
        },
        "id": "EB5jamtXvNZk",
        "outputId": "8bca70f5-e209-47d1-da1d-69c9ecf8a047"
      },
      "execution_count": 65,
      "outputs": [
        {
          "output_type": "stream",
          "name": "stdout",
          "text": [
            "Contagem de votos:\n",
            "C1 : 14108 \n",
            "C2 : 9539 \n",
            "C3 : 17544 \n",
            "C4 : 9847 \n",
            "B e N : 7471 \n",
            "I : 1491 \n",
            "Proporção de votos:\n",
            "C1 : 0.2351 \n",
            "C2 : 0.159 \n",
            "C3 : 0.2924 \n",
            "C4 : 0.1641 \n",
            "B e N : 0.1245 \n",
            "I : 0.0249 \n"
          ]
        }
      ]
    },
    {
      "cell_type": "code",
      "source": [
        "set.seed(2024)\n",
        "\n",
        "# Convertendo para um data frame estruturado para amostragem\n",
        "dados <- data.frame(Sex = sex_distribution, Vote = votes)\n",
        "\n",
        "# Amostragem sem reposição\n",
        "n <- 3000\n",
        "sampled_indices <- sample(1:nrow(dados), n, replace = FALSE)\n",
        "sampled_dados <- dados[sampled_indices, ]\n",
        "\n",
        "# Separando os dados da amostra por sexo\n",
        "df_male <- subset(sampled_dados, Sex == 'M')\n",
        "df_female <- subset(sampled_dados, Sex == 'F')\n",
        "\n",
        "# Contando os votos para cada opção na amostra\n",
        "sample_vote_counts <- table(sampled_dados$Vote)\n",
        "\n",
        "# Imprimir os resultados\n",
        "cat(\"Contagem de votos:\\n\")\n",
        "for (option in options) {\n",
        "  cat(option, \":\", sample_vote_counts[option], \"\\n\")\n",
        "}\n",
        "\n",
        "# Calculando as proporções amostrais\n",
        "sample_vote_proportions <- sample_vote_counts / n\n",
        "\n",
        "# Imprimindo as proporções\n",
        "cat(\"Proporção de votos:\\n\")\n",
        "for (option in options) {\n",
        "  cat(option, \":\", round(sample_vote_proportions[option], 4), \"\\n\")\n",
        "}"
      ],
      "metadata": {
        "colab": {
          "base_uri": "https://localhost:8080/"
        },
        "id": "DLMRNSKT3WkH",
        "outputId": "ad963984-e497-4c22-ec51-a8c95b23daf1"
      },
      "execution_count": 66,
      "outputs": [
        {
          "output_type": "stream",
          "name": "stdout",
          "text": [
            "Contagem de votos:\n",
            "C1 : 672 \n",
            "C2 : 478 \n",
            "C3 : 900 \n",
            "C4 : 501 \n",
            "B e N : 376 \n",
            "I : 73 \n",
            "Proporção de votos:\n",
            "C1 : 0.224 \n",
            "C2 : 0.1593 \n",
            "C3 : 0.3 \n",
            "C4 : 0.167 \n",
            "B e N : 0.1253 \n",
            "I : 0.0243 \n"
          ]
        }
      ]
    },
    {
      "cell_type": "code",
      "source": [
        "# Calculando os intervalos de confiança de 95% para cada proporção\n",
        "confidence_intervals <- lapply(sample_vote_proportions, function(proportion) {\n",
        "  lower_bound <- proportion - 0.02\n",
        "  upper_bound <- proportion + 0.02\n",
        "  c(lower_bound, upper_bound)\n",
        "})\n",
        "\n",
        "# Imprimindo os resultados\n",
        "cat(\"Proporções de votos e intervalos de confiança de 95%:\\n\")\n",
        "for (option in names(sample_vote_proportions)) {\n",
        "  proportion <- sample_vote_proportions[option]\n",
        "  ci <- confidence_intervals[[option]]\n",
        "  cat(sprintf(\"%s: %.4f (95%% CI: [%.4f, %.4f])\\n\", option, proportion, ci[1], ci[2]))\n",
        "}"
      ],
      "metadata": {
        "colab": {
          "base_uri": "https://localhost:8080/"
        },
        "id": "5LpTntcW5Lqv",
        "outputId": "56a5a241-d81f-4ff1-a46e-92b52ce0af8b"
      },
      "execution_count": 67,
      "outputs": [
        {
          "output_type": "stream",
          "name": "stdout",
          "text": [
            "Proporções de votos e intervalos de confiança de 95%:\n",
            "B e N: 0.1253 (95% CI: [0.1053, 0.1453])\n",
            "C1: 0.2240 (95% CI: [0.2040, 0.2440])\n",
            "C2: 0.1593 (95% CI: [0.1393, 0.1793])\n",
            "C3: 0.3000 (95% CI: [0.2800, 0.3200])\n",
            "C4: 0.1670 (95% CI: [0.1470, 0.1870])\n",
            "I: 0.0243 (95% CI: [0.0043, 0.0443])\n"
          ]
        }
      ]
    },
    {
      "cell_type": "markdown",
      "source": [
        "**c)** O número de eleitores amostrados foi maior ou menor que o encontrado no item a)? O que isso\n",
        "implica? Qual seria a verdadeira margem de erro?\n"
      ],
      "metadata": {
        "id": "ctvESGm1x38Z"
      }
    },
    {
      "cell_type": "markdown",
      "source": [
        "**Maior:** isso implica em um erro amostral real menor que o fixado, portanto, temos que o intervalo de confiança proveniente desta amostragem é dito conservador.\n",
        "\n"
      ],
      "metadata": {
        "id": "cEhaXeVZ6uv4"
      }
    },
    {
      "cell_type": "markdown",
      "source": [
        "Considerando a abordagem conservativa, temos que o verdadeiro erro máximo é de:"
      ],
      "metadata": {
        "id": "_jsDL7b894CU"
      }
    },
    {
      "cell_type": "code",
      "source": [
        "f <- n / N\n",
        "B <- z * sqrt((1 - f) / (4 * (n - 1)))\n",
        "\n",
        "cat(sprintf(\"O verdadeiro erro máximo é de %.4f\\n\", B))"
      ],
      "metadata": {
        "colab": {
          "base_uri": "https://localhost:8080/"
        },
        "id": "CwXgOkvKyCAH",
        "outputId": "c3716fa4-3356-48ab-a5e5-70a3e782ea61"
      },
      "execution_count": 68,
      "outputs": [
        {
          "output_type": "stream",
          "name": "stdout",
          "text": [
            "O verdadeiro erro máximo é de 0.0174\n"
          ]
        }
      ]
    },
    {
      "cell_type": "code",
      "source": [
        "# Calculando os intervalos de confiança de 95% para cada proporção\n",
        "confidence_intervals <- lapply(sample_vote_proportions, function(proportion) {\n",
        "  lower_bound <- proportion - B\n",
        "  upper_bound <- proportion + B\n",
        "  c(lower_bound, upper_bound)\n",
        "})\n",
        "\n",
        "# Imprimindo os resultados\n",
        "cat(\"Proporções de votos e intervalos de confiança de 95%:\\n\")\n",
        "for (option in names(sample_vote_proportions)) {\n",
        "  proportion <- sample_vote_proportions[option]\n",
        "  ci <- confidence_intervals[[option]]\n",
        "  cat(sprintf(\"%s: %.4f (95%% CI: [%.4f, %.4f])\\n\", option, proportion, ci[1], ci[2]))\n",
        "}"
      ],
      "metadata": {
        "colab": {
          "base_uri": "https://localhost:8080/"
        },
        "id": "0CFUlvxtJOAX",
        "outputId": "2891f146-279a-4133-93f7-019c7259ce45"
      },
      "execution_count": 69,
      "outputs": [
        {
          "output_type": "stream",
          "name": "stdout",
          "text": [
            "Proporções de votos e intervalos de confiança de 95%:\n",
            "B e N: 0.1253 (95% CI: [0.1079, 0.1428])\n",
            "C1: 0.2240 (95% CI: [0.2066, 0.2414])\n",
            "C2: 0.1593 (95% CI: [0.1419, 0.1768])\n",
            "C3: 0.3000 (95% CI: [0.2826, 0.3174])\n",
            "C4: 0.1670 (95% CI: [0.1496, 0.1844])\n",
            "I: 0.0243 (95% CI: [0.0069, 0.0418])\n"
          ]
        }
      ]
    },
    {
      "cell_type": "markdown",
      "source": [
        "Utilizando a abordagem otimista para cada candidato:"
      ],
      "metadata": {
        "id": "e_T_C_Z0_UN1"
      }
    },
    {
      "cell_type": "code",
      "source": [
        "# Calculando os erros máximos para cada proporção\n",
        "maximum_errors <- sapply(sample_vote_proportions, function(proportion) {\n",
        "  z * sqrt(((1 - f) * proportion * (1 - proportion)) / (n - 1))\n",
        "})\n",
        "\n",
        "# Imprimindo os resultados\n",
        "cat(\"Proporções de votos e erros máximos:\\n\")\n",
        "for (option in names(sample_vote_proportions)) {\n",
        "  proportion <- sample_vote_proportions[option]\n",
        "  max_error <- maximum_errors[option]\n",
        "  cat(sprintf(\"%s: Proporção = %.4f, Erro máximo = %.4f\\n\", option, proportion, max_error))\n",
        "}"
      ],
      "metadata": {
        "colab": {
          "base_uri": "https://localhost:8080/"
        },
        "id": "rUj_z0NX_aI0",
        "outputId": "0a03ff29-51ff-4514-d7f0-fa9159bd3fef"
      },
      "execution_count": 70,
      "outputs": [
        {
          "output_type": "stream",
          "name": "stdout",
          "text": [
            "Proporções de votos e erros máximos:\n",
            "B e N: Proporção = 0.1253, Erro máximo = 0.0115\n",
            "C1: Proporção = 0.2240, Erro máximo = 0.0145\n",
            "C2: Proporção = 0.1593, Erro máximo = 0.0128\n",
            "C3: Proporção = 0.3000, Erro máximo = 0.0160\n",
            "C4: Proporção = 0.1670, Erro máximo = 0.0130\n",
            "I: Proporção = 0.0243, Erro máximo = 0.0054\n"
          ]
        }
      ]
    },
    {
      "cell_type": "code",
      "source": [
        "# Calculando os intervalos de confiança de 95% usando os erros máximos\n",
        "confidence_intervals <- lapply(names(sample_vote_proportions), function(option) {\n",
        "  proportion <- sample_vote_proportions[option]\n",
        "  max_error <- maximum_errors[option]\n",
        "  lower_bound <- proportion - max_error\n",
        "  upper_bound <- proportion + max_error\n",
        "  c(lower_bound, upper_bound)\n",
        "})\n",
        "names(confidence_intervals) <- names(sample_vote_proportions)\n",
        "\n",
        "# Imprimindo os resultados\n",
        "cat(\"Proporções de votos e intervalos de confiança de 95%:\\n\")\n",
        "for (option in names(sample_vote_proportions)) {\n",
        "  proportion <- sample_vote_proportions[[option]]\n",
        "  ci <- confidence_intervals[[option]]\n",
        "  cat(sprintf(\"%s: %.4f (95%% CI: [%.4f, %.4f])\\n\", option, proportion, ci[1], ci[2]))\n",
        "}"
      ],
      "metadata": {
        "colab": {
          "base_uri": "https://localhost:8080/"
        },
        "id": "UF228E_4GVKC",
        "outputId": "84dfb206-585e-49bc-8faa-7553aab96942"
      },
      "execution_count": 71,
      "outputs": [
        {
          "output_type": "stream",
          "name": "stdout",
          "text": [
            "Proporções de votos e intervalos de confiança de 95%:\n",
            "B e N: 0.1253 (95% CI: [0.1138, 0.1369])\n",
            "C1: 0.2240 (95% CI: [0.2095, 0.2385])\n",
            "C2: 0.1593 (95% CI: [0.1466, 0.1721])\n",
            "C3: 0.3000 (95% CI: [0.2840, 0.3160])\n",
            "C4: 0.1670 (95% CI: [0.1540, 0.1800])\n",
            "I: 0.0243 (95% CI: [0.0190, 0.0297])\n"
          ]
        }
      ]
    },
    {
      "cell_type": "markdown",
      "source": [
        "**d)** Levando em consideração a variável sexo, o que podemos concluir sobre a proporção de cada categoria\n",
        "de voto?"
      ],
      "metadata": {
        "id": "QNRbOhveyHLn"
      }
    },
    {
      "cell_type": "code",
      "source": [
        "set.seed(2024)\n",
        "\n",
        "# Simulando o processo de votação\n",
        "votes <- mapply(function(sex) {\n",
        "  if (sex == 'M') {\n",
        "    sample(options, 1, prob = probs_male)\n",
        "  } else {\n",
        "    sample(options, 1, prob = probs_female)\n",
        "  }\n",
        "}, sex_distribution)\n",
        "\n",
        "# Extraindo os votos e sexo separadamente\n",
        "sample_sex <- sex_distribution\n",
        "sample_votes <- votes\n",
        "\n",
        "# Amostragem sem reposição a partir dos índices dos votos\n",
        "indices <- sample(1:N, n, replace = FALSE)\n",
        "dados <- data.frame(Sex = sample_sex[indices], Vote = sample_votes[indices])\n",
        "\n",
        "# Separando os dados da amostra por sexo\n",
        "sample_votes_male <- dados$Vote[dados$Sex == 'M']\n",
        "sample_votes_female <- dados$Vote[dados$Sex == 'F']\n",
        "\n",
        "# Contando os votos para cada opção para homens e mulheres na amostra\n",
        "sample_vote_counts_male <- table(sample_votes_male)\n",
        "sample_vote_counts_female <- table(sample_votes_female)\n",
        "\n",
        "# Calculando as proporções para homens e mulheres na amostra\n",
        "sample_vote_proportions_male <- sample_vote_counts_male / length(sample_votes_male)\n",
        "sample_vote_proportions_female <- sample_vote_counts_female / length(sample_votes_female)\n",
        "\n",
        "# Calculando o fator de correção da população finita\n",
        "f1 <- length(sample_votes_male) / male_count\n",
        "f2 <- length(sample_votes_female) / female_count\n",
        "\n",
        "# Função para calcular o erro máximo\n",
        "calculate_max_error <- function(proportion, f, size) {\n",
        "  z * sqrt(((1 - f) * proportion * (1 - proportion)) / (size - 1))\n",
        "}\n",
        "\n",
        "# Calculando o erro máximo e intervalos de confiança para homens e mulheres\n",
        "confidence_intervals_male <- sapply(names(sample_vote_proportions_male), function(option) {\n",
        "  proportion <- sample_vote_proportions_male[option]\n",
        "  max_error <- calculate_max_error(proportion, f1, length(sample_votes_male))\n",
        "  c(proportion - max_error, proportion + max_error)\n",
        "}, simplify = FALSE)\n",
        "\n",
        "confidence_intervals_female <- sapply(names(sample_vote_proportions_female), function(option) {\n",
        "  proportion <- sample_vote_proportions_female[option]\n",
        "  max_error <- calculate_max_error(proportion, f2, length(sample_votes_female))\n",
        "  c(proportion - max_error, proportion + max_error)\n",
        "}, simplify = FALSE)\n",
        "\n",
        "# Imprimindo os resultados para homens\n",
        "cat(\"Proporções de votos dos homens e intervalos de confiança de 95%:\\n\")\n",
        "for (option in names(sample_vote_proportions_male)) {\n",
        "  proportion <- sample_vote_proportions_male[option]\n",
        "  ci <- confidence_intervals_male[[option]]\n",
        "  cat(sprintf(\"%s: Proporção = %.4f (95%% CI: [%.4f, %.4f])\\n\", option, proportion, ci[1], ci[2]))\n",
        "}\n",
        "\n",
        "# Imprimindo os resultados para mulheres\n",
        "cat(\"Proporções de votos das mulheres e intervalos de confiança de 95%:\\n\")\n",
        "for (option in names(sample_vote_proportions_female)) {\n",
        "  proportion <- sample_vote_proportions_female[option]\n",
        "  ci <- confidence_intervals_female[[option]]\n",
        "  cat(sprintf(\"%s: Proporção = %.4f (95%% CI: [%.4f, %.4f])\\n\", option, proportion, ci[1], ci[2]))\n",
        "}"
      ],
      "metadata": {
        "colab": {
          "base_uri": "https://localhost:8080/"
        },
        "id": "b_s6jLpeSmbn",
        "outputId": "3813061a-ac87-41e0-de23-0b8f260d6a00"
      },
      "execution_count": 72,
      "outputs": [
        {
          "output_type": "stream",
          "name": "stdout",
          "text": [
            "Proporções de votos dos homens e intervalos de confiança de 95%:\n",
            "B e N: Proporção = 0.1753 (95% CI: [0.1561, 0.1945])\n",
            "C1: Proporção = 0.2584 (95% CI: [0.2363, 0.2805])\n",
            "C2: Proporção = 0.1418 (95% CI: [0.1241, 0.1594])\n",
            "C3: Proporção = 0.2158 (95% CI: [0.1950, 0.2366])\n",
            "C4: Proporção = 0.1802 (95% CI: [0.1608, 0.1996])\n",
            "I: Proporção = 0.0286 (95% CI: [0.0202, 0.0371])\n",
            "Proporções de votos das mulheres e intervalos de confiança de 95%:\n",
            "B e N: Proporção = 0.0944 (95% CI: [0.0803, 0.1085])\n",
            "C1: Proporção = 0.2130 (95% CI: [0.1933, 0.2328])\n",
            "C2: Proporção = 0.1735 (95% CI: [0.1552, 0.1917])\n",
            "C3: Proporção = 0.3686 (95% CI: [0.3453, 0.3919])\n",
            "C4: Proporção = 0.1295 (95% CI: [0.1133, 0.1457])\n",
            "I: Proporção = 0.0210 (95% CI: [0.0141, 0.0280])\n"
          ]
        }
      ]
    },
    {
      "cell_type": "markdown",
      "source": [
        "É possível observar que, com base na abordagem otimista, todos os intervalos de 95% de confiança contemplam o valor real das proporções por eles estimadas, com excessão dos brancos e nulos para o sexo masculino, apontando para uma boa qualidade da amostra coletada, a qual se apresenta como uma boa representação da população alvo."
      ],
      "metadata": {
        "id": "rtNYtQQMaHIY"
      }
    },
    {
      "cell_type": "markdown",
      "source": [
        "**e)** Suponha que você deseja estudar uma nova variável W para os mesmos eleitores indagados sobre\n",
        "a intenção de voto. Você saberia identificar esses indivíduos? Se sim, qual o primeiro e o último\n",
        "indivíduo investigado da sua amostra?"
      ],
      "metadata": {
        "id": "PUi9jFzhc7OZ"
      }
    },
    {
      "cell_type": "code",
      "source": [
        "# Obtendo a primeira e última linha\n",
        "first_row <- sampled_dados[1, ]\n",
        "last_row <- sampled_dados[n, ]\n",
        "\n",
        "# Imprimir os resultados\n",
        "cat(\"Primeira linha:\\n\")\n",
        "print(first_row)\n",
        "\n",
        "cat(\"\\nÚltima linha:\\n\")\n",
        "print(last_row)"
      ],
      "metadata": {
        "colab": {
          "base_uri": "https://localhost:8080/"
        },
        "id": "R8jQ_E587yT8",
        "outputId": "606c5f6b-f9dc-4d2b-ee70-0e8beed7de8d"
      },
      "execution_count": 73,
      "outputs": [
        {
          "output_type": "stream",
          "name": "stdout",
          "text": [
            "Primeira linha:\n",
            "      Sex Vote\n",
            "21029   F   C1\n",
            "\n",
            "Última linha:\n",
            "     Sex Vote\n",
            "5530   F   C3\n"
          ]
        }
      ]
    },
    {
      "cell_type": "markdown",
      "source": [
        "**Plano AASc:**"
      ],
      "metadata": {
        "id": "kVgnCMo3YX34"
      }
    },
    {
      "cell_type": "markdown",
      "source": [
        "**f)** Calcule o tamanho da amostra que deve ser coletada para assegurar um erro máximo de 2% na\n",
        "estimação da verdadeira proporção de eleitores favoráveis a um determinado candidato. Considere\n",
        "α = 5%.\n"
      ],
      "metadata": {
        "id": "O8qgXy7bYiqD"
      }
    },
    {
      "cell_type": "code",
      "source": [
        "# Definindo as informações de interesse\n",
        "B <- 0.02  # Erro máximo permitido\n",
        "N <- 60000  # Tamanho da população\n",
        "alpha <- 0.05  # Nível de significância\n",
        "\n",
        "# Calculando o valor de z para o dado nível de significância\n",
        "z <- qnorm(1 - alpha / 2)  # Função distribuição acumulada inversa\n",
        "\n",
        "# Calculando o tamanho da amostra\n",
        "n <- (z / (2 * B))^2\n",
        "\n",
        "# Imprimindo tamanho da amostra arredondado para o número inteiro mais elevado\n",
        "cat(sprintf(\"O tamanho amostral que nos garante um erro máximo de 2%% é de %d\\n\", round(n)))"
      ],
      "metadata": {
        "colab": {
          "base_uri": "https://localhost:8080/"
        },
        "id": "ujIxJEhxYdFI",
        "outputId": "18c42c7f-3353-4b92-df3a-6f2365166630"
      },
      "execution_count": 74,
      "outputs": [
        {
          "output_type": "stream",
          "name": "stdout",
          "text": [
            "O tamanho amostral que nos garante um erro máximo de 2% é de 2401\n"
          ]
        }
      ]
    },
    {
      "cell_type": "markdown",
      "source": [
        "**g)** Considerando uma margem de erro de 2%, uma amostra de tamanho n = 3000 foi coletada (fixar\n",
        "semente). Obtenha a intenção de voto para cada candidado, incluíndo Brancos/Nulos e indecisos,\n",
        "juntamente com os seus respectivos intervalos com 95% de confiança"
      ],
      "metadata": {
        "id": "1mFiSK1XZXT-"
      }
    },
    {
      "cell_type": "code",
      "source": [
        "set.seed(2024)\n",
        "\n",
        "# Convertendo para um data frame estruturado para amostragem\n",
        "dados <- data.frame(Sex = sex_distribution, Vote = votes)\n",
        "\n",
        "# Amostragem com reposição\n",
        "n <- 3000\n",
        "sampled_indices <- sample(1:nrow(dados), n, replace = TRUE)\n",
        "sampled_dados <- dados[sampled_indices, ]\n",
        "\n",
        "# Separando os dados da amostra por sexo\n",
        "df_male <- subset(sampled_dados, Sex == 'M')\n",
        "df_female <- subset(sampled_dados, Sex == 'F')\n",
        "\n",
        "# Contando os votos para cada opção na amostra\n",
        "sample_vote_counts <- table(sampled_dados$Vote)\n",
        "\n",
        "# Imprimir os resultados\n",
        "cat(\"Contagem de votos:\\n\")\n",
        "for (option in options) {\n",
        "  cat(option, \":\", sample_vote_counts[option], \"\\n\")\n",
        "}\n",
        "\n",
        "# Calculando as proporções amostrais\n",
        "sample_vote_proportions <- sample_vote_counts / n\n",
        "\n",
        "# Imprimindo as proporções\n",
        "cat(\"Proporção de votos:\\n\")\n",
        "for (option in options) {\n",
        "  cat(option, \":\", round(sample_vote_proportions[option], 4), \"\\n\")\n",
        "}"
      ],
      "metadata": {
        "colab": {
          "base_uri": "https://localhost:8080/"
        },
        "id": "dRl17gltb7Uf",
        "outputId": "cc7f98f7-00d4-4641-ab08-6102edced2de"
      },
      "execution_count": 75,
      "outputs": [
        {
          "output_type": "stream",
          "name": "stdout",
          "text": [
            "Contagem de votos:\n",
            "C1 : 639 \n",
            "C2 : 498 \n",
            "C3 : 893 \n",
            "C4 : 505 \n",
            "B e N : 384 \n",
            "I : 81 \n",
            "Proporção de votos:\n",
            "C1 : 0.213 \n",
            "C2 : 0.166 \n",
            "C3 : 0.2977 \n",
            "C4 : 0.1683 \n",
            "B e N : 0.128 \n",
            "I : 0.027 \n"
          ]
        }
      ]
    },
    {
      "cell_type": "code",
      "source": [
        "# Calculando os intervalos de confiança de 95% para cada proporção\n",
        "confidence_intervals <- lapply(sample_vote_proportions, function(proportion) {\n",
        "  lower_bound <- proportion - 0.02\n",
        "  upper_bound <- proportion + 0.02\n",
        "  c(lower_bound, upper_bound)\n",
        "})\n",
        "\n",
        "# Imprimindo os resultados\n",
        "cat(\"Proporções de votos e intervalos de confiança de 95%:\\n\")\n",
        "for (option in names(sample_vote_proportions)) {\n",
        "  proportion <- sample_vote_proportions[option]\n",
        "  ci <- confidence_intervals[[option]]\n",
        "  cat(sprintf(\"%s: %.4f (95%% CI: [%.4f, %.4f])\\n\", option, proportion, ci[1], ci[2]))\n",
        "}"
      ],
      "metadata": {
        "colab": {
          "base_uri": "https://localhost:8080/"
        },
        "id": "NiP9R-XFcSwO",
        "outputId": "894f11a7-e333-44ca-abb8-c1b064954b04"
      },
      "execution_count": 76,
      "outputs": [
        {
          "output_type": "stream",
          "name": "stdout",
          "text": [
            "Proporções de votos e intervalos de confiança de 95%:\n",
            "B e N: 0.1280 (95% CI: [0.1080, 0.1480])\n",
            "C1: 0.2130 (95% CI: [0.1930, 0.2330])\n",
            "C2: 0.1660 (95% CI: [0.1460, 0.1860])\n",
            "C3: 0.2977 (95% CI: [0.2777, 0.3177])\n",
            "C4: 0.1683 (95% CI: [0.1483, 0.1883])\n",
            "I: 0.0270 (95% CI: [0.0070, 0.0470])\n"
          ]
        }
      ]
    },
    {
      "cell_type": "markdown",
      "source": [
        "**h)** O número de eleitores amostrados foi maior ou menor que o encontrado no item f)? O que isso\n",
        "implica? Qual seria a verdadeira margem de erro?"
      ],
      "metadata": {
        "id": "JnD41yQEcKNR"
      }
    },
    {
      "cell_type": "markdown",
      "source": [
        "**Maior:** o que resulta em um erro amostral real menor que o fixado, sendo assim, o intervalo de confiança proveniente desta amostragem é dito conservador."
      ],
      "metadata": {
        "id": "Tj1qQLCech33"
      }
    },
    {
      "cell_type": "markdown",
      "source": [
        "Considerando a abordagem conservativa, temos que o verdadeiro erro máximo é de:"
      ],
      "metadata": {
        "id": "F595-C85dkGx"
      }
    },
    {
      "cell_type": "code",
      "source": [
        "B <- z*sqrt(1/(4*(n - 1)))\n",
        "\n",
        "cat(sprintf(\"O verdadeiro erro máximo é de %.4f\\n\", B))"
      ],
      "metadata": {
        "colab": {
          "base_uri": "https://localhost:8080/"
        },
        "id": "oJVLVfsVdd0R",
        "outputId": "317c2505-d86a-41a7-ce68-927793331aac"
      },
      "execution_count": 77,
      "outputs": [
        {
          "output_type": "stream",
          "name": "stdout",
          "text": [
            "O verdadeiro erro máximo é de 0.0179\n"
          ]
        }
      ]
    },
    {
      "cell_type": "code",
      "source": [
        "# Calculando os intervalos de confiança de 95% para cada proporção\n",
        "confidence_intervals <- lapply(sample_vote_proportions, function(proportion) {\n",
        "  lower_bound <- proportion - B\n",
        "  upper_bound <- proportion + B\n",
        "  c(lower_bound, upper_bound)\n",
        "})\n",
        "\n",
        "# Imprimindo os resultados\n",
        "cat(\"Proporções de votos e intervalos de confiança de 95%:\\n\")\n",
        "for (option in names(sample_vote_proportions)) {\n",
        "  proportion <- sample_vote_proportions[option]\n",
        "  ci <- confidence_intervals[[option]]\n",
        "  cat(sprintf(\"%s: %.4f (95%% CI: [%.4f, %.4f])\\n\", option, proportion, ci[1], ci[2]))\n",
        "}"
      ],
      "metadata": {
        "colab": {
          "base_uri": "https://localhost:8080/"
        },
        "id": "6SK7FpiSxi6M",
        "outputId": "05d33f49-c99f-4b75-f7a6-a738138c5e7a"
      },
      "execution_count": 78,
      "outputs": [
        {
          "output_type": "stream",
          "name": "stdout",
          "text": [
            "Proporções de votos e intervalos de confiança de 95%:\n",
            "B e N: 0.1280 (95% CI: [0.1101, 0.1459])\n",
            "C1: 0.2130 (95% CI: [0.1951, 0.2309])\n",
            "C2: 0.1660 (95% CI: [0.1481, 0.1839])\n",
            "C3: 0.2977 (95% CI: [0.2798, 0.3156])\n",
            "C4: 0.1683 (95% CI: [0.1504, 0.1862])\n",
            "I: 0.0270 (95% CI: [0.0091, 0.0449])\n"
          ]
        }
      ]
    },
    {
      "cell_type": "markdown",
      "source": [
        "Agora, considerando a abordagem otimista, temos que:"
      ],
      "metadata": {
        "id": "PrIG2lA1xsyT"
      }
    },
    {
      "cell_type": "code",
      "source": [
        "# Calculando o erro máximo para cada proporção\n",
        "maximum_errors <- sapply(sample_vote_proportions, function(proportion) {\n",
        "  z * sqrt((proportion * (1 - proportion)) / (n - 1))\n",
        "})\n",
        "\n",
        "# Imprimindo os resultados\n",
        "cat(\"Proporções de votos e erros máximos:\\n\")\n",
        "for (option in names(sample_vote_proportions)) {\n",
        "  proportion <- sample_vote_proportions[option]\n",
        "  max_error <- maximum_errors[option]\n",
        "  cat(sprintf(\"%s: Proporção = %.4f, Erro Máximo = %.4f\\n\", option, proportion, max_error))\n",
        "}"
      ],
      "metadata": {
        "colab": {
          "base_uri": "https://localhost:8080/"
        },
        "id": "6ZD-CF23xx-b",
        "outputId": "84f0c47c-2dbb-4ab3-e6e6-6365668b35c7"
      },
      "execution_count": 79,
      "outputs": [
        {
          "output_type": "stream",
          "name": "stdout",
          "text": [
            "Proporções de votos e erros máximos:\n",
            "B e N: Proporção = 0.1280, Erro Máximo = 0.0120\n",
            "C1: Proporção = 0.2130, Erro Máximo = 0.0147\n",
            "C2: Proporção = 0.1660, Erro Máximo = 0.0133\n",
            "C3: Proporção = 0.2977, Erro Máximo = 0.0164\n",
            "C4: Proporção = 0.1683, Erro Máximo = 0.0134\n",
            "I: Proporção = 0.0270, Erro Máximo = 0.0058\n"
          ]
        }
      ]
    },
    {
      "cell_type": "code",
      "source": [
        "# Calculando os intervalos de confiança de 95% usando os erros máximos\n",
        "confidence_intervals <- mapply(function(proportion, max_error) {\n",
        "  c(proportion - max_error, proportion + max_error)\n",
        "}, proportion = sample_vote_proportions, max_error = maximum_errors, SIMPLIFY = FALSE)\n",
        "\n",
        "# Imprimindo os resultados\n",
        "cat(\"Proporções de votos e intervalos de confiança de 95%:\\n\")\n",
        "for (option in names(sample_vote_proportions)) {\n",
        "  proportion <- sample_vote_proportions[option]\n",
        "  ci <- confidence_intervals[[option]]\n",
        "  cat(sprintf(\"%s: Proporção = %.4f (95%% CI: [%.4f, %.4f])\\n\", option, proportion, ci[1], ci[2]))\n",
        "}"
      ],
      "metadata": {
        "colab": {
          "base_uri": "https://localhost:8080/"
        },
        "id": "WNKVwPyUyPUC",
        "outputId": "69c72b98-49a5-4cc6-aeac-f9dec3e18393"
      },
      "execution_count": 80,
      "outputs": [
        {
          "output_type": "stream",
          "name": "stdout",
          "text": [
            "Proporções de votos e intervalos de confiança de 95%:\n",
            "B e N: Proporção = 0.1280 (95% CI: [0.1160, 0.1400])\n",
            "C1: Proporção = 0.2130 (95% CI: [0.1983, 0.2277])\n",
            "C2: Proporção = 0.1660 (95% CI: [0.1527, 0.1793])\n",
            "C3: Proporção = 0.2977 (95% CI: [0.2813, 0.3140])\n",
            "C4: Proporção = 0.1683 (95% CI: [0.1549, 0.1817])\n",
            "I: Proporção = 0.0270 (95% CI: [0.0212, 0.0328])\n"
          ]
        }
      ]
    },
    {
      "cell_type": "markdown",
      "source": [
        "**i)** Levando em consideração a variável sexo, o que podemos concluir sobre a proporção de cada categoria\n",
        "de voto?"
      ],
      "metadata": {
        "id": "_t7Lp11HybJf"
      }
    },
    {
      "cell_type": "code",
      "source": [
        "set.seed(2024)\n",
        "\n",
        "# Simulando o processo de votação\n",
        "votes <- sapply(sex_distribution, function(sex) {\n",
        "  if (sex == 'M') {\n",
        "    sample(options, 1, prob = probs_male)\n",
        "  } else {\n",
        "    sample(options, 1, prob = probs_female)\n",
        "  }\n",
        "})\n",
        "\n",
        "# Extraindo votos e sexo separadamente\n",
        "sample_sex <- sex_distribution\n",
        "sample_votes <- votes\n",
        "\n",
        "# Amostrando com reposição a partir dos índices dos votos\n",
        "indices <- sample(seq_len(N), n, replace = TRUE)\n",
        "dados <- data.frame(Sex = sample_sex[indices], Vote = sample_votes[indices])\n",
        "\n",
        "# Separando os dados da amostra por sexo\n",
        "sample_votes_male <- dados$Vote[dados$Sex == 'M']\n",
        "sample_votes_female <- dados$Vote[dados$Sex == 'F']\n",
        "\n",
        "# Contando os votos para cada opção para homens e mulheres na amostra\n",
        "sample_vote_counts_male <- table(sample_votes_male)\n",
        "sample_vote_counts_female <- table(sample_votes_female)\n",
        "\n",
        "# Calculando as proporções para homens e mulheres na amostra\n",
        "sample_vote_proportions_male <- sample_vote_counts_male / length(sample_votes_male)\n",
        "sample_vote_proportions_female <- sample_vote_counts_female / length(sample_votes_female)\n",
        "\n",
        "# Calculando o erro máximo para cada proporção para homens e mulheres\n",
        "maximum_errors_male <- sapply(sample_vote_proportions_male, function(proportion) {\n",
        "  z * sqrt((proportion * (1 - proportion)) / (length(sample_votes_male) - 1))\n",
        "})\n",
        "\n",
        "maximum_errors_female <- sapply(sample_vote_proportions_female, function(proportion) {\n",
        "  z * sqrt((proportion * (1 - proportion)) / (length(sample_votes_female) - 1))\n",
        "})\n",
        "\n",
        "# Calculando os intervalos de confiança de 95% usando os erros máximos para homens e mulheres\n",
        "confidence_intervals_male <- mapply(function(proportion, max_error) {\n",
        "  c(proportion - max_error, proportion + max_error)\n",
        "}, proportion = sample_vote_proportions_male, max_error = maximum_errors_male, SIMPLIFY = FALSE)\n",
        "\n",
        "confidence_intervals_female <- mapply(function(proportion, max_error) {\n",
        "  c(proportion - max_error, proportion + max_error)\n",
        "}, proportion = sample_vote_proportions_female, max_error = maximum_errors_female, SIMPLIFY = FALSE)\n",
        "\n",
        "# Imprimindo os resultados para homens\n",
        "cat(\"Proporções de votos dos homens e intervalos de confiança de 95%:\\n\")\n",
        "for (option in names(sample_vote_proportions_male)) {\n",
        "  proportion <- sample_vote_proportions_male[option]\n",
        "  ci <- confidence_intervals_male[[option]]\n",
        "  cat(sprintf(\"%s: Proporção = %.4f (95%% CI: [%.4f, %.4f])\\n\", option, proportion, ci[1], ci[2]))\n",
        "}\n",
        "\n",
        "# Imprimindo os resultados para mulheres\n",
        "cat(\"Proporções de votos das mulheres e intervalos de confiança de 95%:\\n\")\n",
        "for (option in names(sample_vote_proportions_female)) {\n",
        "  proportion <- sample_vote_proportions_female[option]\n",
        "  ci <- confidence_intervals_female[[option]]\n",
        "  cat(sprintf(\"%s: Proporção = %.4f (95%% CI: [%.4f, %.4f])\\n\", option, proportion, ci[1], ci[2]))\n",
        "}"
      ],
      "metadata": {
        "colab": {
          "base_uri": "https://localhost:8080/"
        },
        "id": "bHukiQEtRkpO",
        "outputId": "aa75c9a2-b56e-4292-c2e2-d1e9940fd3c1"
      },
      "execution_count": 81,
      "outputs": [
        {
          "output_type": "stream",
          "name": "stdout",
          "text": [
            "Proporções de votos dos homens e intervalos de confiança de 95%:\n",
            "B e N: Proporção = 0.1776 (95% CI: [0.1578, 0.1974])\n",
            "C1: Proporção = 0.2552 (95% CI: [0.2326, 0.2779])\n",
            "C2: Proporção = 0.1399 (95% CI: [0.1219, 0.1578])\n",
            "C3: Proporção = 0.2161 (95% CI: [0.1947, 0.2374])\n",
            "C4: Proporção = 0.1818 (95% CI: [0.1618, 0.2018])\n",
            "I: Proporção = 0.0294 (95% CI: [0.0206, 0.0381])\n",
            "Proporções de votos das mulheres e intervalos de confiança de 95%:\n",
            "B e N: Proporção = 0.0943 (95% CI: [0.0798, 0.1087])\n",
            "C1: Proporção = 0.2140 (95% CI: [0.1937, 0.2343])\n",
            "C2: Proporção = 0.1701 (95% CI: [0.1515, 0.1887])\n",
            "C3: Proporção = 0.3720 (95% CI: [0.3481, 0.3959])\n",
            "C4: Proporção = 0.1293 (95% CI: [0.1127, 0.1459])\n",
            "I: Proporção = 0.0204 (95% CI: [0.0134, 0.0274])\n"
          ]
        }
      ]
    },
    {
      "cell_type": "markdown",
      "source": [
        "É possível observar que os intervalos de 95% de confiança via AASc contemplam os valores reais para as proporções em quase todos os casos, com excessão do grupo referente às mulheres indecisas."
      ],
      "metadata": {
        "id": "pSDWKZiIzccC"
      }
    },
    {
      "cell_type": "markdown",
      "source": [
        "**j)** Qual o número efetivo de eleitores que contribuíram com informações na sua amostra"
      ],
      "metadata": {
        "id": "AVnixwAjL0Os"
      }
    },
    {
      "cell_type": "code",
      "source": [
        "# Obtendo os índices únicos\n",
        "unique_indices <- unique(indices)\n",
        "\n",
        "# Tamanho efetivo da amostra\n",
        "effective_sample_size <- length(unique_indices)\n",
        "\n",
        "# Imprimindo resultados\n",
        "cat(\"Tamanho efetivo da amostra:\", effective_sample_size)"
      ],
      "metadata": {
        "colab": {
          "base_uri": "https://localhost:8080/"
        },
        "id": "BVVgtXXVL_zv",
        "outputId": "da4aa7b1-14da-4e16-9c84-e821440a65c6"
      },
      "execution_count": 82,
      "outputs": [
        {
          "output_type": "stream",
          "name": "stdout",
          "text": [
            "Tamanho efetivo da amostra: 2924"
          ]
        }
      ]
    }
  ]
}