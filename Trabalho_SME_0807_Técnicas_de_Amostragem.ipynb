{
  "nbformat": 4,
  "nbformat_minor": 0,
  "metadata": {
    "colab": {
      "provenance": []
    },
    "kernelspec": {
      "name": "python3",
      "display_name": "Python 3"
    },
    "language_info": {
      "name": "python"
    }
  },
  "cells": [
    {
      "cell_type": "markdown",
      "source": [
        "# **Estudo Observacional do Desempenho de Estudantes de Escolas Públicas no ENEM de 2023**"
      ],
      "metadata": {
        "id": "uUCQFW6ISKJj"
      }
    },
    {
      "cell_type": "markdown",
      "source": [
        "Importando bibliotecas necessárias:"
      ],
      "metadata": {
        "id": "Rq_HmsWwyHmj"
      }
    },
    {
      "cell_type": "code",
      "execution_count": null,
      "metadata": {
        "id": "bhGo8eHEx3Gq"
      },
      "outputs": [],
      "source": [
        "import pandas as pd\n",
        "import numpy as np\n",
        "import matplotlib.pyplot as plt\n",
        "import seaborn as sns\n",
        "\n",
        "from scipy.stats import t\n",
        "from scipy.stats import norm\n",
        "\n",
        "# Definições de cores -> todas estão numa escala de mais escura para mais clara.\n",
        "VERMELHO_FORTE = '#461220'\n",
        "CINZA1, CINZA2, CINZA3 = '#231F20', '#414040', '#555655'\n",
        "CINZA4, CINZA5, CINZA6 = '#646369', '#76787B', '#828282'\n",
        "CINZA7, CINZA8, CINZA9 = '#929497', '#A6A6A5', '#BFBEBE'\n",
        "AZUL1, AZUL2, AZUL3, AZUL4 = '#174A7E', '#4A81BF', '#94B2D7', '#94AFC5'\n",
        "VERMELHO1, VERMELHO2, VERMELHO3, VERMELHO4, VERMELHO5 = '#DB0527', '#E23652', '#ED8293', '#F4B4BE', '#FBE6E9'\n",
        "VERDE1, VERDE2 = '#0C8040', '#9ABB59'\n",
        "LARANJA1 = '#F79747'\n",
        "AMARELO1, AMARELO2, AMARELO3, AMARELO4, AMARELO5 = '#FFC700', '#FFCC19', '#FFEB51', '#FFE37F', '#FFEEB2'\n",
        "BRANCO = '#FFFFFF'"
      ]
    },
    {
      "cell_type": "markdown",
      "source": [
        "# Carregando os Dados"
      ],
      "metadata": {
        "id": "-a8WZJoNyNfo"
      }
    },
    {
      "cell_type": "code",
      "source": [
        "df = pd.read_csv(\"/content/MICRODADOS_ENEM_2023.csv\", sep=';', encoding='ISO-8859-1')\n",
        "df.head()"
      ],
      "metadata": {
        "colab": {
          "base_uri": "https://localhost:8080/",
          "height": 255
        },
        "id": "9dB-5FaDzQB5",
        "outputId": "f05f5dfd-b332-4d0e-c6ab-dced85b72d45"
      },
      "execution_count": null,
      "outputs": [
        {
          "output_type": "execute_result",
          "data": {
            "text/plain": [
              "   NU_INSCRICAO  NU_ANO  TP_FAIXA_ETARIA TP_SEXO  TP_ESTADO_CIVIL  \\\n",
              "0  210059085136    2023               14       M                2   \n",
              "1  210059527735    2023               12       M                2   \n",
              "2  210061103945    2023                6       F                1   \n",
              "3  210060214087    2023                2       F                1   \n",
              "4  210059980948    2023                3       F                1   \n",
              "\n",
              "   TP_COR_RACA  TP_NACIONALIDADE  TP_ST_CONCLUSAO  TP_ANO_CONCLUIU  TP_ESCOLA  \\\n",
              "0            1                 1                1               17          1   \n",
              "1            1                 0                1               16          1   \n",
              "2            1                 1                1                0          1   \n",
              "3            3                 1                2                0          2   \n",
              "4            3                 1                2                0          2   \n",
              "\n",
              "   ...  Q016  Q017  Q018 Q019  Q020 Q021  Q022  Q023  Q024  Q025  \n",
              "0  ...     C     C     B    B     A    B     B     A     A     B  \n",
              "1  ...     B     A     B    B     A    A     C     A     D     B  \n",
              "2  ...     B     A     A    B     A    A     A     A     A     B  \n",
              "3  ...     A     A     A    B     A    A     D     A     A     B  \n",
              "4  ...     A     A     A    B     A    A     B     A     A     A  \n",
              "\n",
              "[5 rows x 76 columns]"
            ],
            "text/html": [
              "\n",
              "  <div id=\"df-cb0b8ea0-dd5b-48d4-962b-7b16fb9ce077\" class=\"colab-df-container\">\n",
              "    <div>\n",
              "<style scoped>\n",
              "    .dataframe tbody tr th:only-of-type {\n",
              "        vertical-align: middle;\n",
              "    }\n",
              "\n",
              "    .dataframe tbody tr th {\n",
              "        vertical-align: top;\n",
              "    }\n",
              "\n",
              "    .dataframe thead th {\n",
              "        text-align: right;\n",
              "    }\n",
              "</style>\n",
              "<table border=\"1\" class=\"dataframe\">\n",
              "  <thead>\n",
              "    <tr style=\"text-align: right;\">\n",
              "      <th></th>\n",
              "      <th>NU_INSCRICAO</th>\n",
              "      <th>NU_ANO</th>\n",
              "      <th>TP_FAIXA_ETARIA</th>\n",
              "      <th>TP_SEXO</th>\n",
              "      <th>TP_ESTADO_CIVIL</th>\n",
              "      <th>TP_COR_RACA</th>\n",
              "      <th>TP_NACIONALIDADE</th>\n",
              "      <th>TP_ST_CONCLUSAO</th>\n",
              "      <th>TP_ANO_CONCLUIU</th>\n",
              "      <th>TP_ESCOLA</th>\n",
              "      <th>...</th>\n",
              "      <th>Q016</th>\n",
              "      <th>Q017</th>\n",
              "      <th>Q018</th>\n",
              "      <th>Q019</th>\n",
              "      <th>Q020</th>\n",
              "      <th>Q021</th>\n",
              "      <th>Q022</th>\n",
              "      <th>Q023</th>\n",
              "      <th>Q024</th>\n",
              "      <th>Q025</th>\n",
              "    </tr>\n",
              "  </thead>\n",
              "  <tbody>\n",
              "    <tr>\n",
              "      <th>0</th>\n",
              "      <td>210059085136</td>\n",
              "      <td>2023</td>\n",
              "      <td>14</td>\n",
              "      <td>M</td>\n",
              "      <td>2</td>\n",
              "      <td>1</td>\n",
              "      <td>1</td>\n",
              "      <td>1</td>\n",
              "      <td>17</td>\n",
              "      <td>1</td>\n",
              "      <td>...</td>\n",
              "      <td>C</td>\n",
              "      <td>C</td>\n",
              "      <td>B</td>\n",
              "      <td>B</td>\n",
              "      <td>A</td>\n",
              "      <td>B</td>\n",
              "      <td>B</td>\n",
              "      <td>A</td>\n",
              "      <td>A</td>\n",
              "      <td>B</td>\n",
              "    </tr>\n",
              "    <tr>\n",
              "      <th>1</th>\n",
              "      <td>210059527735</td>\n",
              "      <td>2023</td>\n",
              "      <td>12</td>\n",
              "      <td>M</td>\n",
              "      <td>2</td>\n",
              "      <td>1</td>\n",
              "      <td>0</td>\n",
              "      <td>1</td>\n",
              "      <td>16</td>\n",
              "      <td>1</td>\n",
              "      <td>...</td>\n",
              "      <td>B</td>\n",
              "      <td>A</td>\n",
              "      <td>B</td>\n",
              "      <td>B</td>\n",
              "      <td>A</td>\n",
              "      <td>A</td>\n",
              "      <td>C</td>\n",
              "      <td>A</td>\n",
              "      <td>D</td>\n",
              "      <td>B</td>\n",
              "    </tr>\n",
              "    <tr>\n",
              "      <th>2</th>\n",
              "      <td>210061103945</td>\n",
              "      <td>2023</td>\n",
              "      <td>6</td>\n",
              "      <td>F</td>\n",
              "      <td>1</td>\n",
              "      <td>1</td>\n",
              "      <td>1</td>\n",
              "      <td>1</td>\n",
              "      <td>0</td>\n",
              "      <td>1</td>\n",
              "      <td>...</td>\n",
              "      <td>B</td>\n",
              "      <td>A</td>\n",
              "      <td>A</td>\n",
              "      <td>B</td>\n",
              "      <td>A</td>\n",
              "      <td>A</td>\n",
              "      <td>A</td>\n",
              "      <td>A</td>\n",
              "      <td>A</td>\n",
              "      <td>B</td>\n",
              "    </tr>\n",
              "    <tr>\n",
              "      <th>3</th>\n",
              "      <td>210060214087</td>\n",
              "      <td>2023</td>\n",
              "      <td>2</td>\n",
              "      <td>F</td>\n",
              "      <td>1</td>\n",
              "      <td>3</td>\n",
              "      <td>1</td>\n",
              "      <td>2</td>\n",
              "      <td>0</td>\n",
              "      <td>2</td>\n",
              "      <td>...</td>\n",
              "      <td>A</td>\n",
              "      <td>A</td>\n",
              "      <td>A</td>\n",
              "      <td>B</td>\n",
              "      <td>A</td>\n",
              "      <td>A</td>\n",
              "      <td>D</td>\n",
              "      <td>A</td>\n",
              "      <td>A</td>\n",
              "      <td>B</td>\n",
              "    </tr>\n",
              "    <tr>\n",
              "      <th>4</th>\n",
              "      <td>210059980948</td>\n",
              "      <td>2023</td>\n",
              "      <td>3</td>\n",
              "      <td>F</td>\n",
              "      <td>1</td>\n",
              "      <td>3</td>\n",
              "      <td>1</td>\n",
              "      <td>2</td>\n",
              "      <td>0</td>\n",
              "      <td>2</td>\n",
              "      <td>...</td>\n",
              "      <td>A</td>\n",
              "      <td>A</td>\n",
              "      <td>A</td>\n",
              "      <td>B</td>\n",
              "      <td>A</td>\n",
              "      <td>A</td>\n",
              "      <td>B</td>\n",
              "      <td>A</td>\n",
              "      <td>A</td>\n",
              "      <td>A</td>\n",
              "    </tr>\n",
              "  </tbody>\n",
              "</table>\n",
              "<p>5 rows × 76 columns</p>\n",
              "</div>\n",
              "    <div class=\"colab-df-buttons\">\n",
              "\n",
              "  <div class=\"colab-df-container\">\n",
              "    <button class=\"colab-df-convert\" onclick=\"convertToInteractive('df-cb0b8ea0-dd5b-48d4-962b-7b16fb9ce077')\"\n",
              "            title=\"Convert this dataframe to an interactive table.\"\n",
              "            style=\"display:none;\">\n",
              "\n",
              "  <svg xmlns=\"http://www.w3.org/2000/svg\" height=\"24px\" viewBox=\"0 -960 960 960\">\n",
              "    <path d=\"M120-120v-720h720v720H120Zm60-500h600v-160H180v160Zm220 220h160v-160H400v160Zm0 220h160v-160H400v160ZM180-400h160v-160H180v160Zm440 0h160v-160H620v160ZM180-180h160v-160H180v160Zm440 0h160v-160H620v160Z\"/>\n",
              "  </svg>\n",
              "    </button>\n",
              "\n",
              "  <style>\n",
              "    .colab-df-container {\n",
              "      display:flex;\n",
              "      gap: 12px;\n",
              "    }\n",
              "\n",
              "    .colab-df-convert {\n",
              "      background-color: #E8F0FE;\n",
              "      border: none;\n",
              "      border-radius: 50%;\n",
              "      cursor: pointer;\n",
              "      display: none;\n",
              "      fill: #1967D2;\n",
              "      height: 32px;\n",
              "      padding: 0 0 0 0;\n",
              "      width: 32px;\n",
              "    }\n",
              "\n",
              "    .colab-df-convert:hover {\n",
              "      background-color: #E2EBFA;\n",
              "      box-shadow: 0px 1px 2px rgba(60, 64, 67, 0.3), 0px 1px 3px 1px rgba(60, 64, 67, 0.15);\n",
              "      fill: #174EA6;\n",
              "    }\n",
              "\n",
              "    .colab-df-buttons div {\n",
              "      margin-bottom: 4px;\n",
              "    }\n",
              "\n",
              "    [theme=dark] .colab-df-convert {\n",
              "      background-color: #3B4455;\n",
              "      fill: #D2E3FC;\n",
              "    }\n",
              "\n",
              "    [theme=dark] .colab-df-convert:hover {\n",
              "      background-color: #434B5C;\n",
              "      box-shadow: 0px 1px 3px 1px rgba(0, 0, 0, 0.15);\n",
              "      filter: drop-shadow(0px 1px 2px rgba(0, 0, 0, 0.3));\n",
              "      fill: #FFFFFF;\n",
              "    }\n",
              "  </style>\n",
              "\n",
              "    <script>\n",
              "      const buttonEl =\n",
              "        document.querySelector('#df-cb0b8ea0-dd5b-48d4-962b-7b16fb9ce077 button.colab-df-convert');\n",
              "      buttonEl.style.display =\n",
              "        google.colab.kernel.accessAllowed ? 'block' : 'none';\n",
              "\n",
              "      async function convertToInteractive(key) {\n",
              "        const element = document.querySelector('#df-cb0b8ea0-dd5b-48d4-962b-7b16fb9ce077');\n",
              "        const dataTable =\n",
              "          await google.colab.kernel.invokeFunction('convertToInteractive',\n",
              "                                                    [key], {});\n",
              "        if (!dataTable) return;\n",
              "\n",
              "        const docLinkHtml = 'Like what you see? Visit the ' +\n",
              "          '<a target=\"_blank\" href=https://colab.research.google.com/notebooks/data_table.ipynb>data table notebook</a>'\n",
              "          + ' to learn more about interactive tables.';\n",
              "        element.innerHTML = '';\n",
              "        dataTable['output_type'] = 'display_data';\n",
              "        await google.colab.output.renderOutput(dataTable, element);\n",
              "        const docLink = document.createElement('div');\n",
              "        docLink.innerHTML = docLinkHtml;\n",
              "        element.appendChild(docLink);\n",
              "      }\n",
              "    </script>\n",
              "  </div>\n",
              "\n",
              "\n",
              "<div id=\"df-ac0275cf-d3dc-44fa-afff-bc255746cfda\">\n",
              "  <button class=\"colab-df-quickchart\" onclick=\"quickchart('df-ac0275cf-d3dc-44fa-afff-bc255746cfda')\"\n",
              "            title=\"Suggest charts\"\n",
              "            style=\"display:none;\">\n",
              "\n",
              "<svg xmlns=\"http://www.w3.org/2000/svg\" height=\"24px\"viewBox=\"0 0 24 24\"\n",
              "     width=\"24px\">\n",
              "    <g>\n",
              "        <path d=\"M19 3H5c-1.1 0-2 .9-2 2v14c0 1.1.9 2 2 2h14c1.1 0 2-.9 2-2V5c0-1.1-.9-2-2-2zM9 17H7v-7h2v7zm4 0h-2V7h2v10zm4 0h-2v-4h2v4z\"/>\n",
              "    </g>\n",
              "</svg>\n",
              "  </button>\n",
              "\n",
              "<style>\n",
              "  .colab-df-quickchart {\n",
              "      --bg-color: #E8F0FE;\n",
              "      --fill-color: #1967D2;\n",
              "      --hover-bg-color: #E2EBFA;\n",
              "      --hover-fill-color: #174EA6;\n",
              "      --disabled-fill-color: #AAA;\n",
              "      --disabled-bg-color: #DDD;\n",
              "  }\n",
              "\n",
              "  [theme=dark] .colab-df-quickchart {\n",
              "      --bg-color: #3B4455;\n",
              "      --fill-color: #D2E3FC;\n",
              "      --hover-bg-color: #434B5C;\n",
              "      --hover-fill-color: #FFFFFF;\n",
              "      --disabled-bg-color: #3B4455;\n",
              "      --disabled-fill-color: #666;\n",
              "  }\n",
              "\n",
              "  .colab-df-quickchart {\n",
              "    background-color: var(--bg-color);\n",
              "    border: none;\n",
              "    border-radius: 50%;\n",
              "    cursor: pointer;\n",
              "    display: none;\n",
              "    fill: var(--fill-color);\n",
              "    height: 32px;\n",
              "    padding: 0;\n",
              "    width: 32px;\n",
              "  }\n",
              "\n",
              "  .colab-df-quickchart:hover {\n",
              "    background-color: var(--hover-bg-color);\n",
              "    box-shadow: 0 1px 2px rgba(60, 64, 67, 0.3), 0 1px 3px 1px rgba(60, 64, 67, 0.15);\n",
              "    fill: var(--button-hover-fill-color);\n",
              "  }\n",
              "\n",
              "  .colab-df-quickchart-complete:disabled,\n",
              "  .colab-df-quickchart-complete:disabled:hover {\n",
              "    background-color: var(--disabled-bg-color);\n",
              "    fill: var(--disabled-fill-color);\n",
              "    box-shadow: none;\n",
              "  }\n",
              "\n",
              "  .colab-df-spinner {\n",
              "    border: 2px solid var(--fill-color);\n",
              "    border-color: transparent;\n",
              "    border-bottom-color: var(--fill-color);\n",
              "    animation:\n",
              "      spin 1s steps(1) infinite;\n",
              "  }\n",
              "\n",
              "  @keyframes spin {\n",
              "    0% {\n",
              "      border-color: transparent;\n",
              "      border-bottom-color: var(--fill-color);\n",
              "      border-left-color: var(--fill-color);\n",
              "    }\n",
              "    20% {\n",
              "      border-color: transparent;\n",
              "      border-left-color: var(--fill-color);\n",
              "      border-top-color: var(--fill-color);\n",
              "    }\n",
              "    30% {\n",
              "      border-color: transparent;\n",
              "      border-left-color: var(--fill-color);\n",
              "      border-top-color: var(--fill-color);\n",
              "      border-right-color: var(--fill-color);\n",
              "    }\n",
              "    40% {\n",
              "      border-color: transparent;\n",
              "      border-right-color: var(--fill-color);\n",
              "      border-top-color: var(--fill-color);\n",
              "    }\n",
              "    60% {\n",
              "      border-color: transparent;\n",
              "      border-right-color: var(--fill-color);\n",
              "    }\n",
              "    80% {\n",
              "      border-color: transparent;\n",
              "      border-right-color: var(--fill-color);\n",
              "      border-bottom-color: var(--fill-color);\n",
              "    }\n",
              "    90% {\n",
              "      border-color: transparent;\n",
              "      border-bottom-color: var(--fill-color);\n",
              "    }\n",
              "  }\n",
              "</style>\n",
              "\n",
              "  <script>\n",
              "    async function quickchart(key) {\n",
              "      const quickchartButtonEl =\n",
              "        document.querySelector('#' + key + ' button');\n",
              "      quickchartButtonEl.disabled = true;  // To prevent multiple clicks.\n",
              "      quickchartButtonEl.classList.add('colab-df-spinner');\n",
              "      try {\n",
              "        const charts = await google.colab.kernel.invokeFunction(\n",
              "            'suggestCharts', [key], {});\n",
              "      } catch (error) {\n",
              "        console.error('Error during call to suggestCharts:', error);\n",
              "      }\n",
              "      quickchartButtonEl.classList.remove('colab-df-spinner');\n",
              "      quickchartButtonEl.classList.add('colab-df-quickchart-complete');\n",
              "    }\n",
              "    (() => {\n",
              "      let quickchartButtonEl =\n",
              "        document.querySelector('#df-ac0275cf-d3dc-44fa-afff-bc255746cfda button');\n",
              "      quickchartButtonEl.style.display =\n",
              "        google.colab.kernel.accessAllowed ? 'block' : 'none';\n",
              "    })();\n",
              "  </script>\n",
              "</div>\n",
              "\n",
              "    </div>\n",
              "  </div>\n"
            ],
            "application/vnd.google.colaboratory.intrinsic+json": {
              "type": "dataframe",
              "variable_name": "df"
            }
          },
          "metadata": {},
          "execution_count": 8
        }
      ]
    },
    {
      "cell_type": "code",
      "source": [
        "len(df)"
      ],
      "metadata": {
        "colab": {
          "base_uri": "https://localhost:8080/"
        },
        "id": "By2b7hS-jw26",
        "outputId": "bbd4ee80-eeca-4e51-df2c-84bbe43ef4d9"
      },
      "execution_count": null,
      "outputs": [
        {
          "output_type": "execute_result",
          "data": {
            "text/plain": [
              "157635"
            ]
          },
          "metadata": {},
          "execution_count": 9
        }
      ]
    },
    {
      "cell_type": "markdown",
      "source": [
        "# Limpeza e Preparação dos Dados"
      ],
      "metadata": {
        "id": "0UTGedMG1-nN"
      }
    },
    {
      "cell_type": "code",
      "source": [
        "df.info()"
      ],
      "metadata": {
        "colab": {
          "base_uri": "https://localhost:8080/"
        },
        "id": "VgBgsDNS2Q7p",
        "outputId": "ad28605d-9d6b-4cf9-95e6-233a31867c77"
      },
      "execution_count": null,
      "outputs": [
        {
          "output_type": "stream",
          "name": "stdout",
          "text": [
            "<class 'pandas.core.frame.DataFrame'>\n",
            "RangeIndex: 54632 entries, 0 to 54631\n",
            "Data columns (total 76 columns):\n",
            " #   Column                  Non-Null Count  Dtype  \n",
            "---  ------                  --------------  -----  \n",
            " 0   NU_INSCRICAO            54632 non-null  int64  \n",
            " 1   NU_ANO                  54632 non-null  int64  \n",
            " 2   TP_FAIXA_ETARIA         54632 non-null  int64  \n",
            " 3   TP_SEXO                 54632 non-null  object \n",
            " 4   TP_ESTADO_CIVIL         54632 non-null  int64  \n",
            " 5   TP_COR_RACA             54632 non-null  int64  \n",
            " 6   TP_NACIONALIDADE        54632 non-null  int64  \n",
            " 7   TP_ST_CONCLUSAO         54632 non-null  int64  \n",
            " 8   TP_ANO_CONCLUIU         54632 non-null  int64  \n",
            " 9   TP_ESCOLA               54632 non-null  int64  \n",
            " 10  TP_ENSINO               19410 non-null  float64\n",
            " 11  IN_TREINEIRO            54632 non-null  int64  \n",
            " 12  CO_MUNICIPIO_ESC        11890 non-null  float64\n",
            " 13  NO_MUNICIPIO_ESC        11890 non-null  object \n",
            " 14  CO_UF_ESC               11890 non-null  float64\n",
            " 15  SG_UF_ESC               11890 non-null  object \n",
            " 16  TP_DEPENDENCIA_ADM_ESC  11890 non-null  float64\n",
            " 17  TP_LOCALIZACAO_ESC      11890 non-null  float64\n",
            " 18  TP_SIT_FUNC_ESC         11890 non-null  float64\n",
            " 19  CO_MUNICIPIO_PROVA      54632 non-null  int64  \n",
            " 20  NO_MUNICIPIO_PROVA      54632 non-null  object \n",
            " 21  CO_UF_PROVA             54632 non-null  int64  \n",
            " 22  SG_UF_PROVA             54632 non-null  object \n",
            " 23  TP_PRESENCA_CN          54632 non-null  int64  \n",
            " 24  TP_PRESENCA_CH          54632 non-null  int64  \n",
            " 25  TP_PRESENCA_LC          54632 non-null  int64  \n",
            " 26  TP_PRESENCA_MT          54632 non-null  int64  \n",
            " 27  CO_PROVA_CN             41252 non-null  float64\n",
            " 28  CO_PROVA_CH             42802 non-null  float64\n",
            " 29  CO_PROVA_LC             42802 non-null  float64\n",
            " 30  CO_PROVA_MT             41252 non-null  float64\n",
            " 31  NU_NOTA_CN              41252 non-null  float64\n",
            " 32  NU_NOTA_CH              42802 non-null  float64\n",
            " 33  NU_NOTA_LC              42802 non-null  float64\n",
            " 34  NU_NOTA_MT              41252 non-null  float64\n",
            " 35  TX_RESPOSTAS_CN         41252 non-null  object \n",
            " 36  TX_RESPOSTAS_CH         42802 non-null  object \n",
            " 37  TX_RESPOSTAS_LC         42802 non-null  object \n",
            " 38  TX_RESPOSTAS_MT         41252 non-null  object \n",
            " 39  TP_LINGUA               54632 non-null  int64  \n",
            " 40  TX_GABARITO_CN          41252 non-null  object \n",
            " 41  TX_GABARITO_CH          42802 non-null  object \n",
            " 42  TX_GABARITO_LC          42801 non-null  object \n",
            " 43  TX_GABARITO_MT          41251 non-null  object \n",
            " 44  TP_STATUS_REDACAO       42801 non-null  float64\n",
            " 45  NU_NOTA_COMP1           42801 non-null  float64\n",
            " 46  NU_NOTA_COMP2           42801 non-null  float64\n",
            " 47  NU_NOTA_COMP3           42801 non-null  float64\n",
            " 48  NU_NOTA_COMP4           42801 non-null  float64\n",
            " 49  NU_NOTA_COMP5           42801 non-null  float64\n",
            " 50  NU_NOTA_REDACAO         42801 non-null  float64\n",
            " 51  Q001                    54631 non-null  object \n",
            " 52  Q002                    54631 non-null  object \n",
            " 53  Q003                    54631 non-null  object \n",
            " 54  Q004                    54631 non-null  object \n",
            " 55  Q005                    54631 non-null  float64\n",
            " 56  Q006                    54631 non-null  object \n",
            " 57  Q007                    54631 non-null  object \n",
            " 58  Q008                    54631 non-null  object \n",
            " 59  Q009                    54631 non-null  object \n",
            " 60  Q010                    54631 non-null  object \n",
            " 61  Q011                    54631 non-null  object \n",
            " 62  Q012                    54631 non-null  object \n",
            " 63  Q013                    54631 non-null  object \n",
            " 64  Q014                    54631 non-null  object \n",
            " 65  Q015                    54631 non-null  object \n",
            " 66  Q016                    54631 non-null  object \n",
            " 67  Q017                    54631 non-null  object \n",
            " 68  Q018                    54631 non-null  object \n",
            " 69  Q019                    54631 non-null  object \n",
            " 70  Q020                    54631 non-null  object \n",
            " 71  Q021                    54631 non-null  object \n",
            " 72  Q022                    54631 non-null  object \n",
            " 73  Q023                    54631 non-null  object \n",
            " 74  Q024                    54631 non-null  object \n",
            " 75  Q025                    54631 non-null  object \n",
            "dtypes: float64(22), int64(17), object(37)\n",
            "memory usage: 31.7+ MB\n"
          ]
        }
      ]
    },
    {
      "cell_type": "markdown",
      "source": [
        "Os dados possuem 179885 linhas e 76 colunas."
      ],
      "metadata": {
        "id": "Vz_DzKPC2vwT"
      }
    },
    {
      "cell_type": "markdown",
      "source": [
        "Para acessar o significado de cada coluna, consultar o Dicionário de Microdados do ENEM 2023. Colunas:"
      ],
      "metadata": {
        "id": "dL4i3XvU65CV"
      }
    },
    {
      "cell_type": "code",
      "source": [
        "df.columns"
      ],
      "metadata": {
        "colab": {
          "base_uri": "https://localhost:8080/"
        },
        "id": "MQn72-d57Knd",
        "outputId": "c7490be3-f72e-4fc1-b592-6c810bc7e541"
      },
      "execution_count": null,
      "outputs": [
        {
          "output_type": "execute_result",
          "data": {
            "text/plain": [
              "Index(['NU_INSCRICAO', 'NU_ANO', 'TP_FAIXA_ETARIA', 'TP_SEXO',\n",
              "       'TP_ESTADO_CIVIL', 'TP_COR_RACA', 'TP_NACIONALIDADE', 'TP_ST_CONCLUSAO',\n",
              "       'TP_ANO_CONCLUIU', 'TP_ESCOLA', 'TP_ENSINO', 'IN_TREINEIRO',\n",
              "       'CO_MUNICIPIO_ESC', 'NO_MUNICIPIO_ESC', 'CO_UF_ESC', 'SG_UF_ESC',\n",
              "       'TP_DEPENDENCIA_ADM_ESC', 'TP_LOCALIZACAO_ESC', 'TP_SIT_FUNC_ESC',\n",
              "       'CO_MUNICIPIO_PROVA', 'NO_MUNICIPIO_PROVA', 'CO_UF_PROVA',\n",
              "       'SG_UF_PROVA', 'TP_PRESENCA_CN', 'TP_PRESENCA_CH', 'TP_PRESENCA_LC',\n",
              "       'TP_PRESENCA_MT', 'CO_PROVA_CN', 'CO_PROVA_CH', 'CO_PROVA_LC',\n",
              "       'CO_PROVA_MT', 'NU_NOTA_CN', 'NU_NOTA_CH', 'NU_NOTA_LC', 'NU_NOTA_MT',\n",
              "       'TX_RESPOSTAS_CN', 'TX_RESPOSTAS_CH', 'TX_RESPOSTAS_LC',\n",
              "       'TX_RESPOSTAS_MT', 'TP_LINGUA', 'TX_GABARITO_CN', 'TX_GABARITO_CH',\n",
              "       'TX_GABARITO_LC', 'TX_GABARITO_MT', 'TP_STATUS_REDACAO',\n",
              "       'NU_NOTA_COMP1', 'NU_NOTA_COMP2', 'NU_NOTA_COMP3', 'NU_NOTA_COMP4',\n",
              "       'NU_NOTA_COMP5', 'NU_NOTA_REDACAO', 'Q001', 'Q002', 'Q003', 'Q004',\n",
              "       'Q005', 'Q006', 'Q007', 'Q008', 'Q009', 'Q010', 'Q011', 'Q012', 'Q013',\n",
              "       'Q014', 'Q015', 'Q016', 'Q017', 'Q018', 'Q019', 'Q020', 'Q021', 'Q022',\n",
              "       'Q023', 'Q024', 'Q025'],\n",
              "      dtype='object')"
            ]
          },
          "metadata": {},
          "execution_count": 66
        }
      ]
    },
    {
      "cell_type": "code",
      "source": [
        "# checando para dados nulos\n",
        "df.isnull().any()"
      ],
      "metadata": {
        "colab": {
          "base_uri": "https://localhost:8080/"
        },
        "id": "2UotEJHQ2Whn",
        "outputId": "4aae73b2-78fc-4c1e-f5c2-2731be41ef4d"
      },
      "execution_count": null,
      "outputs": [
        {
          "output_type": "execute_result",
          "data": {
            "text/plain": [
              "NU_INSCRICAO       False\n",
              "NU_ANO             False\n",
              "TP_FAIXA_ETARIA    False\n",
              "TP_SEXO            False\n",
              "TP_ESTADO_CIVIL    False\n",
              "                   ...  \n",
              "Q021                True\n",
              "Q022                True\n",
              "Q023                True\n",
              "Q024                True\n",
              "Q025                True\n",
              "Length: 76, dtype: bool"
            ]
          },
          "metadata": {},
          "execution_count": 67
        }
      ]
    },
    {
      "cell_type": "code",
      "source": [
        "df.duplicated().sum()"
      ],
      "metadata": {
        "colab": {
          "base_uri": "https://localhost:8080/"
        },
        "id": "-NP6j2w_4Acc",
        "outputId": "a87e8e85-502f-4e36-853c-1bae94544d73"
      },
      "execution_count": null,
      "outputs": [
        {
          "output_type": "execute_result",
          "data": {
            "text/plain": [
              "0"
            ]
          },
          "metadata": {},
          "execution_count": 68
        }
      ]
    },
    {
      "cell_type": "markdown",
      "source": [
        "Identidicada a presença de dados nulos, mas não há dados duplicados."
      ],
      "metadata": {
        "id": "f6KZrGF93PFW"
      }
    },
    {
      "cell_type": "code",
      "source": [
        "df['NU_INSCRICAO'].isnull().sum()"
      ],
      "metadata": {
        "colab": {
          "base_uri": "https://localhost:8080/"
        },
        "id": "zbw25Kf53sq-",
        "outputId": "62085c72-b2b5-46d4-fa0b-e9dc40379221"
      },
      "execution_count": null,
      "outputs": [
        {
          "output_type": "execute_result",
          "data": {
            "text/plain": [
              "0"
            ]
          },
          "metadata": {},
          "execution_count": 69
        }
      ]
    },
    {
      "cell_type": "code",
      "source": [
        "df['NU_INSCRICAO'].duplicated().sum()"
      ],
      "metadata": {
        "colab": {
          "base_uri": "https://localhost:8080/"
        },
        "id": "q6iCY5Ys3dbG",
        "outputId": "6ed39091-6b48-432b-c09d-89babecab15c"
      },
      "execution_count": null,
      "outputs": [
        {
          "output_type": "execute_result",
          "data": {
            "text/plain": [
              "0"
            ]
          },
          "metadata": {},
          "execution_count": 70
        }
      ]
    },
    {
      "cell_type": "markdown",
      "source": [
        "No entanto, a variável número de inscrição não possui dados nulos ou duplicados."
      ],
      "metadata": {
        "id": "ujC_Fc473g2j"
      }
    },
    {
      "cell_type": "markdown",
      "source": [
        "## Selecionando as colunas de interesse:\n",
        "Por se tratar de uma base de dados extensa, iremos selecionar apenas as colunas de interesse para este trabalho para facilitar a manipulação da base de dados.\n",
        "Nesta etapa, serão eliminadas as colunas com informações sobre código diversos, vetores de respostas, notas de cada competência da redação, e algumas perguntas do questionário socioeconômico que não serão exploradas neste trabalho."
      ],
      "metadata": {
        "id": "ulVnr7Yp4hK2"
      }
    },
    {
      "cell_type": "code",
      "source": [
        "df.drop(['TP_ESTADO_CIVIL','TP_ENSINO','CO_MUNICIPIO_ESC','CO_UF_PROVA','CO_PROVA_CN', 'CO_PROVA_CH', 'CO_PROVA_LC',\n",
        "       'CO_PROVA_MT','TX_RESPOSTAS_CN', 'TX_RESPOSTAS_CH', 'TX_RESPOSTAS_LC',\n",
        "       'TX_RESPOSTAS_MT', 'TP_LINGUA', 'TX_GABARITO_CN', 'TX_GABARITO_CH',\n",
        "       'TX_GABARITO_LC', 'TX_GABARITO_MT', 'NU_NOTA_COMP1', 'NU_NOTA_COMP2',\n",
        "        'NU_NOTA_COMP3', 'NU_NOTA_COMP4', 'NU_NOTA_COMP5',\n",
        "        'Q003', 'Q004','Q005', 'Q007', 'Q008', 'Q009', 'Q010', 'Q011', 'Q012', 'Q013',\n",
        "       'Q014', 'Q015', 'Q016', 'Q017', 'Q018', 'Q019', 'Q020', 'Q021', 'Q022',\n",
        "       'Q023'], axis = 1, inplace = True)"
      ],
      "metadata": {
        "id": "KFOreAe_4SY0"
      },
      "execution_count": null,
      "outputs": []
    },
    {
      "cell_type": "code",
      "source": [
        "df.info()"
      ],
      "metadata": {
        "colab": {
          "base_uri": "https://localhost:8080/"
        },
        "id": "9J0k4nuJ9hdZ",
        "outputId": "ebd23bf8-a4c2-4298-c3c8-869a7c338154"
      },
      "execution_count": null,
      "outputs": [
        {
          "output_type": "stream",
          "name": "stdout",
          "text": [
            "<class 'pandas.core.frame.DataFrame'>\n",
            "RangeIndex: 54632 entries, 0 to 54631\n",
            "Data columns (total 34 columns):\n",
            " #   Column                  Non-Null Count  Dtype  \n",
            "---  ------                  --------------  -----  \n",
            " 0   NU_INSCRICAO            54632 non-null  int64  \n",
            " 1   NU_ANO                  54632 non-null  int64  \n",
            " 2   TP_FAIXA_ETARIA         54632 non-null  int64  \n",
            " 3   TP_SEXO                 54632 non-null  object \n",
            " 4   TP_COR_RACA             54632 non-null  int64  \n",
            " 5   TP_NACIONALIDADE        54632 non-null  int64  \n",
            " 6   TP_ST_CONCLUSAO         54632 non-null  int64  \n",
            " 7   TP_ANO_CONCLUIU         54632 non-null  int64  \n",
            " 8   TP_ESCOLA               54632 non-null  int64  \n",
            " 9   IN_TREINEIRO            54632 non-null  int64  \n",
            " 10  NO_MUNICIPIO_ESC        11890 non-null  object \n",
            " 11  CO_UF_ESC               11890 non-null  float64\n",
            " 12  SG_UF_ESC               11890 non-null  object \n",
            " 13  TP_DEPENDENCIA_ADM_ESC  11890 non-null  float64\n",
            " 14  TP_LOCALIZACAO_ESC      11890 non-null  float64\n",
            " 15  TP_SIT_FUNC_ESC         11890 non-null  float64\n",
            " 16  CO_MUNICIPIO_PROVA      54632 non-null  int64  \n",
            " 17  NO_MUNICIPIO_PROVA      54632 non-null  object \n",
            " 18  SG_UF_PROVA             54632 non-null  object \n",
            " 19  TP_PRESENCA_CN          54632 non-null  int64  \n",
            " 20  TP_PRESENCA_CH          54632 non-null  int64  \n",
            " 21  TP_PRESENCA_LC          54632 non-null  int64  \n",
            " 22  TP_PRESENCA_MT          54632 non-null  int64  \n",
            " 23  NU_NOTA_CN              41252 non-null  float64\n",
            " 24  NU_NOTA_CH              42802 non-null  float64\n",
            " 25  NU_NOTA_LC              42802 non-null  float64\n",
            " 26  NU_NOTA_MT              41252 non-null  float64\n",
            " 27  TP_STATUS_REDACAO       42801 non-null  float64\n",
            " 28  NU_NOTA_REDACAO         42801 non-null  float64\n",
            " 29  Q001                    54631 non-null  object \n",
            " 30  Q002                    54631 non-null  object \n",
            " 31  Q006                    54631 non-null  object \n",
            " 32  Q024                    54631 non-null  object \n",
            " 33  Q025                    54631 non-null  object \n",
            "dtypes: float64(10), int64(14), object(10)\n",
            "memory usage: 14.2+ MB\n"
          ]
        }
      ]
    },
    {
      "cell_type": "markdown",
      "source": [
        "Investigando as colunas com dados nulos"
      ],
      "metadata": {
        "id": "d-oca3cT-VJS"
      }
    },
    {
      "cell_type": "code",
      "source": [
        "null_df = (df.isna().sum() / len(df) * 100).to_frame().rename(columns={0: 'nulos_pct'})\n",
        "null_df['num_nulos'] = df.isna().sum()\n",
        "null_df.sort_values(by=['nulos_pct'], ascending=False)"
      ],
      "metadata": {
        "colab": {
          "base_uri": "https://localhost:8080/",
          "height": 1000
        },
        "id": "_ph2nI3C95Ap",
        "outputId": "bdec43b0-76cc-4760-fc56-419d944f7e8d"
      },
      "execution_count": null,
      "outputs": [
        {
          "output_type": "execute_result",
          "data": {
            "text/plain": [
              "                        nulos_pct  num_nulos\n",
              "NO_MUNICIPIO_ESC        78.236199      42742\n",
              "SG_UF_ESC               78.236199      42742\n",
              "TP_SIT_FUNC_ESC         78.236199      42742\n",
              "TP_LOCALIZACAO_ESC      78.236199      42742\n",
              "TP_DEPENDENCIA_ADM_ESC  78.236199      42742\n",
              "CO_UF_ESC               78.236199      42742\n",
              "NU_NOTA_CN              24.491141      13380\n",
              "NU_NOTA_MT              24.491141      13380\n",
              "NU_NOTA_REDACAO         21.655806      11831\n",
              "TP_STATUS_REDACAO       21.655806      11831\n",
              "NU_NOTA_CH              21.653976      11830\n",
              "NU_NOTA_LC              21.653976      11830\n",
              "Q025                     0.001830          1\n",
              "Q001                     0.001830          1\n",
              "Q002                     0.001830          1\n",
              "Q006                     0.001830          1\n",
              "Q024                     0.001830          1\n",
              "TP_PRESENCA_CH           0.000000          0\n",
              "TP_PRESENCA_MT           0.000000          0\n",
              "TP_PRESENCA_LC           0.000000          0\n",
              "NU_INSCRICAO             0.000000          0\n",
              "TP_PRESENCA_CN           0.000000          0\n",
              "SG_UF_PROVA              0.000000          0\n",
              "NU_ANO                   0.000000          0\n",
              "CO_MUNICIPIO_PROVA       0.000000          0\n",
              "IN_TREINEIRO             0.000000          0\n",
              "TP_ESCOLA                0.000000          0\n",
              "TP_ANO_CONCLUIU          0.000000          0\n",
              "TP_ST_CONCLUSAO          0.000000          0\n",
              "TP_NACIONALIDADE         0.000000          0\n",
              "TP_COR_RACA              0.000000          0\n",
              "TP_SEXO                  0.000000          0\n",
              "TP_FAIXA_ETARIA          0.000000          0\n",
              "NO_MUNICIPIO_PROVA       0.000000          0"
            ],
            "text/html": [
              "\n",
              "  <div id=\"df-9f333601-55fc-42e2-8147-9831b3f590c7\" class=\"colab-df-container\">\n",
              "    <div>\n",
              "<style scoped>\n",
              "    .dataframe tbody tr th:only-of-type {\n",
              "        vertical-align: middle;\n",
              "    }\n",
              "\n",
              "    .dataframe tbody tr th {\n",
              "        vertical-align: top;\n",
              "    }\n",
              "\n",
              "    .dataframe thead th {\n",
              "        text-align: right;\n",
              "    }\n",
              "</style>\n",
              "<table border=\"1\" class=\"dataframe\">\n",
              "  <thead>\n",
              "    <tr style=\"text-align: right;\">\n",
              "      <th></th>\n",
              "      <th>nulos_pct</th>\n",
              "      <th>num_nulos</th>\n",
              "    </tr>\n",
              "  </thead>\n",
              "  <tbody>\n",
              "    <tr>\n",
              "      <th>NO_MUNICIPIO_ESC</th>\n",
              "      <td>78.236199</td>\n",
              "      <td>42742</td>\n",
              "    </tr>\n",
              "    <tr>\n",
              "      <th>SG_UF_ESC</th>\n",
              "      <td>78.236199</td>\n",
              "      <td>42742</td>\n",
              "    </tr>\n",
              "    <tr>\n",
              "      <th>TP_SIT_FUNC_ESC</th>\n",
              "      <td>78.236199</td>\n",
              "      <td>42742</td>\n",
              "    </tr>\n",
              "    <tr>\n",
              "      <th>TP_LOCALIZACAO_ESC</th>\n",
              "      <td>78.236199</td>\n",
              "      <td>42742</td>\n",
              "    </tr>\n",
              "    <tr>\n",
              "      <th>TP_DEPENDENCIA_ADM_ESC</th>\n",
              "      <td>78.236199</td>\n",
              "      <td>42742</td>\n",
              "    </tr>\n",
              "    <tr>\n",
              "      <th>CO_UF_ESC</th>\n",
              "      <td>78.236199</td>\n",
              "      <td>42742</td>\n",
              "    </tr>\n",
              "    <tr>\n",
              "      <th>NU_NOTA_CN</th>\n",
              "      <td>24.491141</td>\n",
              "      <td>13380</td>\n",
              "    </tr>\n",
              "    <tr>\n",
              "      <th>NU_NOTA_MT</th>\n",
              "      <td>24.491141</td>\n",
              "      <td>13380</td>\n",
              "    </tr>\n",
              "    <tr>\n",
              "      <th>NU_NOTA_REDACAO</th>\n",
              "      <td>21.655806</td>\n",
              "      <td>11831</td>\n",
              "    </tr>\n",
              "    <tr>\n",
              "      <th>TP_STATUS_REDACAO</th>\n",
              "      <td>21.655806</td>\n",
              "      <td>11831</td>\n",
              "    </tr>\n",
              "    <tr>\n",
              "      <th>NU_NOTA_CH</th>\n",
              "      <td>21.653976</td>\n",
              "      <td>11830</td>\n",
              "    </tr>\n",
              "    <tr>\n",
              "      <th>NU_NOTA_LC</th>\n",
              "      <td>21.653976</td>\n",
              "      <td>11830</td>\n",
              "    </tr>\n",
              "    <tr>\n",
              "      <th>Q025</th>\n",
              "      <td>0.001830</td>\n",
              "      <td>1</td>\n",
              "    </tr>\n",
              "    <tr>\n",
              "      <th>Q001</th>\n",
              "      <td>0.001830</td>\n",
              "      <td>1</td>\n",
              "    </tr>\n",
              "    <tr>\n",
              "      <th>Q002</th>\n",
              "      <td>0.001830</td>\n",
              "      <td>1</td>\n",
              "    </tr>\n",
              "    <tr>\n",
              "      <th>Q006</th>\n",
              "      <td>0.001830</td>\n",
              "      <td>1</td>\n",
              "    </tr>\n",
              "    <tr>\n",
              "      <th>Q024</th>\n",
              "      <td>0.001830</td>\n",
              "      <td>1</td>\n",
              "    </tr>\n",
              "    <tr>\n",
              "      <th>TP_PRESENCA_CH</th>\n",
              "      <td>0.000000</td>\n",
              "      <td>0</td>\n",
              "    </tr>\n",
              "    <tr>\n",
              "      <th>TP_PRESENCA_MT</th>\n",
              "      <td>0.000000</td>\n",
              "      <td>0</td>\n",
              "    </tr>\n",
              "    <tr>\n",
              "      <th>TP_PRESENCA_LC</th>\n",
              "      <td>0.000000</td>\n",
              "      <td>0</td>\n",
              "    </tr>\n",
              "    <tr>\n",
              "      <th>NU_INSCRICAO</th>\n",
              "      <td>0.000000</td>\n",
              "      <td>0</td>\n",
              "    </tr>\n",
              "    <tr>\n",
              "      <th>TP_PRESENCA_CN</th>\n",
              "      <td>0.000000</td>\n",
              "      <td>0</td>\n",
              "    </tr>\n",
              "    <tr>\n",
              "      <th>SG_UF_PROVA</th>\n",
              "      <td>0.000000</td>\n",
              "      <td>0</td>\n",
              "    </tr>\n",
              "    <tr>\n",
              "      <th>NU_ANO</th>\n",
              "      <td>0.000000</td>\n",
              "      <td>0</td>\n",
              "    </tr>\n",
              "    <tr>\n",
              "      <th>CO_MUNICIPIO_PROVA</th>\n",
              "      <td>0.000000</td>\n",
              "      <td>0</td>\n",
              "    </tr>\n",
              "    <tr>\n",
              "      <th>IN_TREINEIRO</th>\n",
              "      <td>0.000000</td>\n",
              "      <td>0</td>\n",
              "    </tr>\n",
              "    <tr>\n",
              "      <th>TP_ESCOLA</th>\n",
              "      <td>0.000000</td>\n",
              "      <td>0</td>\n",
              "    </tr>\n",
              "    <tr>\n",
              "      <th>TP_ANO_CONCLUIU</th>\n",
              "      <td>0.000000</td>\n",
              "      <td>0</td>\n",
              "    </tr>\n",
              "    <tr>\n",
              "      <th>TP_ST_CONCLUSAO</th>\n",
              "      <td>0.000000</td>\n",
              "      <td>0</td>\n",
              "    </tr>\n",
              "    <tr>\n",
              "      <th>TP_NACIONALIDADE</th>\n",
              "      <td>0.000000</td>\n",
              "      <td>0</td>\n",
              "    </tr>\n",
              "    <tr>\n",
              "      <th>TP_COR_RACA</th>\n",
              "      <td>0.000000</td>\n",
              "      <td>0</td>\n",
              "    </tr>\n",
              "    <tr>\n",
              "      <th>TP_SEXO</th>\n",
              "      <td>0.000000</td>\n",
              "      <td>0</td>\n",
              "    </tr>\n",
              "    <tr>\n",
              "      <th>TP_FAIXA_ETARIA</th>\n",
              "      <td>0.000000</td>\n",
              "      <td>0</td>\n",
              "    </tr>\n",
              "    <tr>\n",
              "      <th>NO_MUNICIPIO_PROVA</th>\n",
              "      <td>0.000000</td>\n",
              "      <td>0</td>\n",
              "    </tr>\n",
              "  </tbody>\n",
              "</table>\n",
              "</div>\n",
              "    <div class=\"colab-df-buttons\">\n",
              "\n",
              "  <div class=\"colab-df-container\">\n",
              "    <button class=\"colab-df-convert\" onclick=\"convertToInteractive('df-9f333601-55fc-42e2-8147-9831b3f590c7')\"\n",
              "            title=\"Convert this dataframe to an interactive table.\"\n",
              "            style=\"display:none;\">\n",
              "\n",
              "  <svg xmlns=\"http://www.w3.org/2000/svg\" height=\"24px\" viewBox=\"0 -960 960 960\">\n",
              "    <path d=\"M120-120v-720h720v720H120Zm60-500h600v-160H180v160Zm220 220h160v-160H400v160Zm0 220h160v-160H400v160ZM180-400h160v-160H180v160Zm440 0h160v-160H620v160ZM180-180h160v-160H180v160Zm440 0h160v-160H620v160Z\"/>\n",
              "  </svg>\n",
              "    </button>\n",
              "\n",
              "  <style>\n",
              "    .colab-df-container {\n",
              "      display:flex;\n",
              "      gap: 12px;\n",
              "    }\n",
              "\n",
              "    .colab-df-convert {\n",
              "      background-color: #E8F0FE;\n",
              "      border: none;\n",
              "      border-radius: 50%;\n",
              "      cursor: pointer;\n",
              "      display: none;\n",
              "      fill: #1967D2;\n",
              "      height: 32px;\n",
              "      padding: 0 0 0 0;\n",
              "      width: 32px;\n",
              "    }\n",
              "\n",
              "    .colab-df-convert:hover {\n",
              "      background-color: #E2EBFA;\n",
              "      box-shadow: 0px 1px 2px rgba(60, 64, 67, 0.3), 0px 1px 3px 1px rgba(60, 64, 67, 0.15);\n",
              "      fill: #174EA6;\n",
              "    }\n",
              "\n",
              "    .colab-df-buttons div {\n",
              "      margin-bottom: 4px;\n",
              "    }\n",
              "\n",
              "    [theme=dark] .colab-df-convert {\n",
              "      background-color: #3B4455;\n",
              "      fill: #D2E3FC;\n",
              "    }\n",
              "\n",
              "    [theme=dark] .colab-df-convert:hover {\n",
              "      background-color: #434B5C;\n",
              "      box-shadow: 0px 1px 3px 1px rgba(0, 0, 0, 0.15);\n",
              "      filter: drop-shadow(0px 1px 2px rgba(0, 0, 0, 0.3));\n",
              "      fill: #FFFFFF;\n",
              "    }\n",
              "  </style>\n",
              "\n",
              "    <script>\n",
              "      const buttonEl =\n",
              "        document.querySelector('#df-9f333601-55fc-42e2-8147-9831b3f590c7 button.colab-df-convert');\n",
              "      buttonEl.style.display =\n",
              "        google.colab.kernel.accessAllowed ? 'block' : 'none';\n",
              "\n",
              "      async function convertToInteractive(key) {\n",
              "        const element = document.querySelector('#df-9f333601-55fc-42e2-8147-9831b3f590c7');\n",
              "        const dataTable =\n",
              "          await google.colab.kernel.invokeFunction('convertToInteractive',\n",
              "                                                    [key], {});\n",
              "        if (!dataTable) return;\n",
              "\n",
              "        const docLinkHtml = 'Like what you see? Visit the ' +\n",
              "          '<a target=\"_blank\" href=https://colab.research.google.com/notebooks/data_table.ipynb>data table notebook</a>'\n",
              "          + ' to learn more about interactive tables.';\n",
              "        element.innerHTML = '';\n",
              "        dataTable['output_type'] = 'display_data';\n",
              "        await google.colab.output.renderOutput(dataTable, element);\n",
              "        const docLink = document.createElement('div');\n",
              "        docLink.innerHTML = docLinkHtml;\n",
              "        element.appendChild(docLink);\n",
              "      }\n",
              "    </script>\n",
              "  </div>\n",
              "\n",
              "\n",
              "<div id=\"df-7754272f-c1e9-40e6-ad6b-4a8f23c50918\">\n",
              "  <button class=\"colab-df-quickchart\" onclick=\"quickchart('df-7754272f-c1e9-40e6-ad6b-4a8f23c50918')\"\n",
              "            title=\"Suggest charts\"\n",
              "            style=\"display:none;\">\n",
              "\n",
              "<svg xmlns=\"http://www.w3.org/2000/svg\" height=\"24px\"viewBox=\"0 0 24 24\"\n",
              "     width=\"24px\">\n",
              "    <g>\n",
              "        <path d=\"M19 3H5c-1.1 0-2 .9-2 2v14c0 1.1.9 2 2 2h14c1.1 0 2-.9 2-2V5c0-1.1-.9-2-2-2zM9 17H7v-7h2v7zm4 0h-2V7h2v10zm4 0h-2v-4h2v4z\"/>\n",
              "    </g>\n",
              "</svg>\n",
              "  </button>\n",
              "\n",
              "<style>\n",
              "  .colab-df-quickchart {\n",
              "      --bg-color: #E8F0FE;\n",
              "      --fill-color: #1967D2;\n",
              "      --hover-bg-color: #E2EBFA;\n",
              "      --hover-fill-color: #174EA6;\n",
              "      --disabled-fill-color: #AAA;\n",
              "      --disabled-bg-color: #DDD;\n",
              "  }\n",
              "\n",
              "  [theme=dark] .colab-df-quickchart {\n",
              "      --bg-color: #3B4455;\n",
              "      --fill-color: #D2E3FC;\n",
              "      --hover-bg-color: #434B5C;\n",
              "      --hover-fill-color: #FFFFFF;\n",
              "      --disabled-bg-color: #3B4455;\n",
              "      --disabled-fill-color: #666;\n",
              "  }\n",
              "\n",
              "  .colab-df-quickchart {\n",
              "    background-color: var(--bg-color);\n",
              "    border: none;\n",
              "    border-radius: 50%;\n",
              "    cursor: pointer;\n",
              "    display: none;\n",
              "    fill: var(--fill-color);\n",
              "    height: 32px;\n",
              "    padding: 0;\n",
              "    width: 32px;\n",
              "  }\n",
              "\n",
              "  .colab-df-quickchart:hover {\n",
              "    background-color: var(--hover-bg-color);\n",
              "    box-shadow: 0 1px 2px rgba(60, 64, 67, 0.3), 0 1px 3px 1px rgba(60, 64, 67, 0.15);\n",
              "    fill: var(--button-hover-fill-color);\n",
              "  }\n",
              "\n",
              "  .colab-df-quickchart-complete:disabled,\n",
              "  .colab-df-quickchart-complete:disabled:hover {\n",
              "    background-color: var(--disabled-bg-color);\n",
              "    fill: var(--disabled-fill-color);\n",
              "    box-shadow: none;\n",
              "  }\n",
              "\n",
              "  .colab-df-spinner {\n",
              "    border: 2px solid var(--fill-color);\n",
              "    border-color: transparent;\n",
              "    border-bottom-color: var(--fill-color);\n",
              "    animation:\n",
              "      spin 1s steps(1) infinite;\n",
              "  }\n",
              "\n",
              "  @keyframes spin {\n",
              "    0% {\n",
              "      border-color: transparent;\n",
              "      border-bottom-color: var(--fill-color);\n",
              "      border-left-color: var(--fill-color);\n",
              "    }\n",
              "    20% {\n",
              "      border-color: transparent;\n",
              "      border-left-color: var(--fill-color);\n",
              "      border-top-color: var(--fill-color);\n",
              "    }\n",
              "    30% {\n",
              "      border-color: transparent;\n",
              "      border-left-color: var(--fill-color);\n",
              "      border-top-color: var(--fill-color);\n",
              "      border-right-color: var(--fill-color);\n",
              "    }\n",
              "    40% {\n",
              "      border-color: transparent;\n",
              "      border-right-color: var(--fill-color);\n",
              "      border-top-color: var(--fill-color);\n",
              "    }\n",
              "    60% {\n",
              "      border-color: transparent;\n",
              "      border-right-color: var(--fill-color);\n",
              "    }\n",
              "    80% {\n",
              "      border-color: transparent;\n",
              "      border-right-color: var(--fill-color);\n",
              "      border-bottom-color: var(--fill-color);\n",
              "    }\n",
              "    90% {\n",
              "      border-color: transparent;\n",
              "      border-bottom-color: var(--fill-color);\n",
              "    }\n",
              "  }\n",
              "</style>\n",
              "\n",
              "  <script>\n",
              "    async function quickchart(key) {\n",
              "      const quickchartButtonEl =\n",
              "        document.querySelector('#' + key + ' button');\n",
              "      quickchartButtonEl.disabled = true;  // To prevent multiple clicks.\n",
              "      quickchartButtonEl.classList.add('colab-df-spinner');\n",
              "      try {\n",
              "        const charts = await google.colab.kernel.invokeFunction(\n",
              "            'suggestCharts', [key], {});\n",
              "      } catch (error) {\n",
              "        console.error('Error during call to suggestCharts:', error);\n",
              "      }\n",
              "      quickchartButtonEl.classList.remove('colab-df-spinner');\n",
              "      quickchartButtonEl.classList.add('colab-df-quickchart-complete');\n",
              "    }\n",
              "    (() => {\n",
              "      let quickchartButtonEl =\n",
              "        document.querySelector('#df-7754272f-c1e9-40e6-ad6b-4a8f23c50918 button');\n",
              "      quickchartButtonEl.style.display =\n",
              "        google.colab.kernel.accessAllowed ? 'block' : 'none';\n",
              "    })();\n",
              "  </script>\n",
              "</div>\n",
              "\n",
              "    </div>\n",
              "  </div>\n"
            ],
            "application/vnd.google.colaboratory.intrinsic+json": {
              "type": "dataframe",
              "summary": "{\n  \"name\": \"null_df\",\n  \"rows\": 34,\n  \"fields\": [\n    {\n      \"column\": \"nulos_pct\",\n      \"properties\": {\n        \"dtype\": \"number\",\n        \"std\": 29.661903625833094,\n        \"min\": 0.0,\n        \"max\": 78.23619856494362,\n        \"num_unique_values\": 6,\n        \"samples\": [\n          78.23619856494362,\n          24.491140723385563,\n          0.0\n        ],\n        \"semantic_type\": \"\",\n        \"description\": \"\"\n      }\n    },\n    {\n      \"column\": \"num_nulos\",\n      \"properties\": {\n        \"dtype\": \"number\",\n        \"std\": 16204,\n        \"min\": 0,\n        \"max\": 42742,\n        \"num_unique_values\": 6,\n        \"samples\": [\n          42742,\n          13380,\n          0\n        ],\n        \"semantic_type\": \"\",\n        \"description\": \"\"\n      }\n    }\n  ]\n}"
            }
          },
          "metadata": {},
          "execution_count": 73
        }
      ]
    },
    {
      "cell_type": "markdown",
      "source": [
        "# Selecionando uma amostra de indivíduos por uma AASs"
      ],
      "metadata": {
        "id": "wSd9t3zWh9it"
      }
    },
    {
      "cell_type": "code",
      "source": [
        "df = df.loc[(df['TP_PRESENCA_CN'] == 1 ) |\n",
        "  (df['TP_PRESENCA_CH'] == 1 ) | (df['TP_STATUS_REDACAO'] == 1 ) | (df['TP_PRESENCA_LC'] == 1 )| (df['TP_PRESENCA_MT'] == 1 )]"
      ],
      "metadata": {
        "id": "snOflTbQvo1g"
      },
      "execution_count": null,
      "outputs": []
    },
    {
      "cell_type": "code",
      "source": [
        "\n",
        "# Create average grade variable.\n",
        "df['nota_media'] = (df['NU_NOTA_LC'] + \\\n",
        "                    df['NU_NOTA_CH'] + \\\n",
        "                    df['NU_NOTA_CN'] + \\\n",
        "                    df['NU_NOTA_MT'] + \\\n",
        "                    df['NU_NOTA_REDACAO']) / 5"
      ],
      "metadata": {
        "id": "ynJY4fPvj_iQ",
        "colab": {
          "base_uri": "https://localhost:8080/"
        },
        "outputId": "0c475854-5a29-422d-c35d-e908ef424e63"
      },
      "execution_count": null,
      "outputs": [
        {
          "output_type": "stream",
          "name": "stderr",
          "text": [
            "<ipython-input-75-dca56b6c1c29>:2: SettingWithCopyWarning: \n",
            "A value is trying to be set on a copy of a slice from a DataFrame.\n",
            "Try using .loc[row_indexer,col_indexer] = value instead\n",
            "\n",
            "See the caveats in the documentation: https://pandas.pydata.org/pandas-docs/stable/user_guide/indexing.html#returning-a-view-versus-a-copy\n",
            "  df['nota_media'] = (df['NU_NOTA_LC'] + \\\n"
          ]
        }
      ]
    },
    {
      "cell_type": "code",
      "source": [
        "# selecionando apenas as escolas públicas\n",
        "df_pub = df.loc[df['TP_ESCOLA'] == 2]\n",
        "# df_priv = df.loc[df['TP_ESCOLA'] == 3]"
      ],
      "metadata": {
        "id": "3p6aLU7eTjWi"
      },
      "execution_count": null,
      "outputs": []
    },
    {
      "cell_type": "code",
      "source": [
        "np.random.seed(123)\n",
        "\n",
        "# Coletando amostra piloto\n",
        "\n",
        "piloto_pub = df_pub.sample(n=10, replace=False)\n",
        "# piloto_priv = df_priv.sample(n=10, replace=False)\n",
        "\n",
        "var_pub = np.var(piloto_pub['NU_NOTA_REDACAO'])*len(piloto_pub) / (len(piloto_pub)-1)\n",
        "# var_priv = np.var(piloto_priv['NU_NOTA_REDACAO'])*len(piloto_priv) / (len(piloto_priv)-1)\n",
        "\n",
        "# Calculando o tamanho da amostra em ambos os casos com um erro máximo de 50 pontos e 95% de confiança\n",
        "\n",
        "size_pub = 1 / ((100 / ((1.96*np.sqrt(var_pub)))**2 + 1 / len(df_pub)))\n",
        "# size_priv = 1 / ((50 / ((1.96*np.sqrt(var_priv)))**2 + 1 / len(df_priv)))\n",
        "\n",
        "print('O tamanho amostral para os alunos de escola pública é de: ', np.round(size_pub) + 1)\n",
        "# print('O tamanho amostral para os alunos de escola privada é de: ', np.round(size_priv) + 1)"
      ],
      "metadata": {
        "colab": {
          "base_uri": "https://localhost:8080/"
        },
        "id": "6RjyTEXPTNe1",
        "outputId": "41add777-6e20-4762-f09c-5fa0d953db37"
      },
      "execution_count": null,
      "outputs": [
        {
          "output_type": "stream",
          "name": "stdout",
          "text": [
            "O tamanho amostral para os alunos de escola pública é de:  602.0\n"
          ]
        }
      ]
    },
    {
      "cell_type": "code",
      "source": [
        "np.random.seed(123)\n",
        "\n",
        "amostra_pub = df_pub.sample(n= 2125, replace=False)\n",
        "# amostra_priv = df_priv.sample(n=1046, replace=False)\n",
        "amostra_pub"
      ],
      "metadata": {
        "colab": {
          "base_uri": "https://localhost:8080/",
          "height": 443
        },
        "id": "3gBtEEeTiEuj",
        "outputId": "77ff9d96-a310-488b-c795-e57e3559ad94"
      },
      "execution_count": null,
      "outputs": [
        {
          "output_type": "execute_result",
          "data": {
            "text/plain": [
              "       NU_INSCRICAO  NU_ANO  TP_FAIXA_ETARIA TP_SEXO  TP_COR_RACA  \\\n",
              "6939   210058314221    2023                3       F            1   \n",
              "26888  210060131878    2023                3       F            3   \n",
              "839    210061244828    2023                2       F            3   \n",
              "49938  210061135068    2023                3       F            3   \n",
              "40407  210059925906    2023                3       F            1   \n",
              "...             ...     ...              ...     ...          ...   \n",
              "38636  210060022373    2023                2       F            1   \n",
              "17130  210059933374    2023                4       F            4   \n",
              "22552  210059913002    2023                2       M            3   \n",
              "26146  210059329569    2023                1       F            3   \n",
              "979    210060450359    2023                3       F            2   \n",
              "\n",
              "       TP_NACIONALIDADE  TP_ST_CONCLUSAO  TP_ANO_CONCLUIU  TP_ESCOLA  \\\n",
              "6939                  1                2                0          2   \n",
              "26888                 1                2                0          2   \n",
              "839                   1                2                0          2   \n",
              "49938                 1                2                0          2   \n",
              "40407                 1                2                0          2   \n",
              "...                 ...              ...              ...        ...   \n",
              "38636                 1                2                0          2   \n",
              "17130                 3                2                0          2   \n",
              "22552                 1                2                0          2   \n",
              "26146                 1                2                0          2   \n",
              "979                   1                2                0          2   \n",
              "\n",
              "       IN_TREINEIRO  ... NU_NOTA_LC  NU_NOTA_MT TP_STATUS_REDACAO  \\\n",
              "6939              0  ...      436.8         NaN               1.0   \n",
              "26888             0  ...      428.9       370.4               1.0   \n",
              "839               0  ...      542.1       382.6               1.0   \n",
              "49938             0  ...      526.1       695.3               1.0   \n",
              "40407             0  ...      533.1       427.1               1.0   \n",
              "...             ...  ...        ...         ...               ...   \n",
              "38636             0  ...      634.8       738.9               1.0   \n",
              "17130             0  ...      387.7       414.1               1.0   \n",
              "22552             0  ...      525.2       499.7               1.0   \n",
              "26146             0  ...      617.6       624.2               1.0   \n",
              "979               0  ...      605.2       469.4               1.0   \n",
              "\n",
              "       NU_NOTA_REDACAO  Q001  Q002  Q006 Q024 Q025  nota_media  \n",
              "6939             620.0     E     F     E    B    B         NaN  \n",
              "26888            600.0     B     E     C    B    B      482.60  \n",
              "839              680.0     B     F     C    A    A      535.16  \n",
              "49938            740.0     E     E     D    B    B      615.08  \n",
              "40407            840.0     H     B     B    A    B      551.16  \n",
              "...                ...   ...   ...   ...  ...  ...         ...  \n",
              "38636            880.0     E     E     C    B    B      701.86  \n",
              "17130            380.0     H     H     C    B    B      407.18  \n",
              "22552            640.0     D     E     E    B    B      514.52  \n",
              "26146            860.0     E     H     B    A    B      620.98  \n",
              "979              620.0     D     E     C    A    B      545.92  \n",
              "\n",
              "[2125 rows x 35 columns]"
            ],
            "text/html": [
              "\n",
              "  <div id=\"df-9a319ce6-acf9-4f50-b514-97ae94a99428\" class=\"colab-df-container\">\n",
              "    <div>\n",
              "<style scoped>\n",
              "    .dataframe tbody tr th:only-of-type {\n",
              "        vertical-align: middle;\n",
              "    }\n",
              "\n",
              "    .dataframe tbody tr th {\n",
              "        vertical-align: top;\n",
              "    }\n",
              "\n",
              "    .dataframe thead th {\n",
              "        text-align: right;\n",
              "    }\n",
              "</style>\n",
              "<table border=\"1\" class=\"dataframe\">\n",
              "  <thead>\n",
              "    <tr style=\"text-align: right;\">\n",
              "      <th></th>\n",
              "      <th>NU_INSCRICAO</th>\n",
              "      <th>NU_ANO</th>\n",
              "      <th>TP_FAIXA_ETARIA</th>\n",
              "      <th>TP_SEXO</th>\n",
              "      <th>TP_COR_RACA</th>\n",
              "      <th>TP_NACIONALIDADE</th>\n",
              "      <th>TP_ST_CONCLUSAO</th>\n",
              "      <th>TP_ANO_CONCLUIU</th>\n",
              "      <th>TP_ESCOLA</th>\n",
              "      <th>IN_TREINEIRO</th>\n",
              "      <th>...</th>\n",
              "      <th>NU_NOTA_LC</th>\n",
              "      <th>NU_NOTA_MT</th>\n",
              "      <th>TP_STATUS_REDACAO</th>\n",
              "      <th>NU_NOTA_REDACAO</th>\n",
              "      <th>Q001</th>\n",
              "      <th>Q002</th>\n",
              "      <th>Q006</th>\n",
              "      <th>Q024</th>\n",
              "      <th>Q025</th>\n",
              "      <th>nota_media</th>\n",
              "    </tr>\n",
              "  </thead>\n",
              "  <tbody>\n",
              "    <tr>\n",
              "      <th>6939</th>\n",
              "      <td>210058314221</td>\n",
              "      <td>2023</td>\n",
              "      <td>3</td>\n",
              "      <td>F</td>\n",
              "      <td>1</td>\n",
              "      <td>1</td>\n",
              "      <td>2</td>\n",
              "      <td>0</td>\n",
              "      <td>2</td>\n",
              "      <td>0</td>\n",
              "      <td>...</td>\n",
              "      <td>436.8</td>\n",
              "      <td>NaN</td>\n",
              "      <td>1.0</td>\n",
              "      <td>620.0</td>\n",
              "      <td>E</td>\n",
              "      <td>F</td>\n",
              "      <td>E</td>\n",
              "      <td>B</td>\n",
              "      <td>B</td>\n",
              "      <td>NaN</td>\n",
              "    </tr>\n",
              "    <tr>\n",
              "      <th>26888</th>\n",
              "      <td>210060131878</td>\n",
              "      <td>2023</td>\n",
              "      <td>3</td>\n",
              "      <td>F</td>\n",
              "      <td>3</td>\n",
              "      <td>1</td>\n",
              "      <td>2</td>\n",
              "      <td>0</td>\n",
              "      <td>2</td>\n",
              "      <td>0</td>\n",
              "      <td>...</td>\n",
              "      <td>428.9</td>\n",
              "      <td>370.4</td>\n",
              "      <td>1.0</td>\n",
              "      <td>600.0</td>\n",
              "      <td>B</td>\n",
              "      <td>E</td>\n",
              "      <td>C</td>\n",
              "      <td>B</td>\n",
              "      <td>B</td>\n",
              "      <td>482.60</td>\n",
              "    </tr>\n",
              "    <tr>\n",
              "      <th>839</th>\n",
              "      <td>210061244828</td>\n",
              "      <td>2023</td>\n",
              "      <td>2</td>\n",
              "      <td>F</td>\n",
              "      <td>3</td>\n",
              "      <td>1</td>\n",
              "      <td>2</td>\n",
              "      <td>0</td>\n",
              "      <td>2</td>\n",
              "      <td>0</td>\n",
              "      <td>...</td>\n",
              "      <td>542.1</td>\n",
              "      <td>382.6</td>\n",
              "      <td>1.0</td>\n",
              "      <td>680.0</td>\n",
              "      <td>B</td>\n",
              "      <td>F</td>\n",
              "      <td>C</td>\n",
              "      <td>A</td>\n",
              "      <td>A</td>\n",
              "      <td>535.16</td>\n",
              "    </tr>\n",
              "    <tr>\n",
              "      <th>49938</th>\n",
              "      <td>210061135068</td>\n",
              "      <td>2023</td>\n",
              "      <td>3</td>\n",
              "      <td>F</td>\n",
              "      <td>3</td>\n",
              "      <td>1</td>\n",
              "      <td>2</td>\n",
              "      <td>0</td>\n",
              "      <td>2</td>\n",
              "      <td>0</td>\n",
              "      <td>...</td>\n",
              "      <td>526.1</td>\n",
              "      <td>695.3</td>\n",
              "      <td>1.0</td>\n",
              "      <td>740.0</td>\n",
              "      <td>E</td>\n",
              "      <td>E</td>\n",
              "      <td>D</td>\n",
              "      <td>B</td>\n",
              "      <td>B</td>\n",
              "      <td>615.08</td>\n",
              "    </tr>\n",
              "    <tr>\n",
              "      <th>40407</th>\n",
              "      <td>210059925906</td>\n",
              "      <td>2023</td>\n",
              "      <td>3</td>\n",
              "      <td>F</td>\n",
              "      <td>1</td>\n",
              "      <td>1</td>\n",
              "      <td>2</td>\n",
              "      <td>0</td>\n",
              "      <td>2</td>\n",
              "      <td>0</td>\n",
              "      <td>...</td>\n",
              "      <td>533.1</td>\n",
              "      <td>427.1</td>\n",
              "      <td>1.0</td>\n",
              "      <td>840.0</td>\n",
              "      <td>H</td>\n",
              "      <td>B</td>\n",
              "      <td>B</td>\n",
              "      <td>A</td>\n",
              "      <td>B</td>\n",
              "      <td>551.16</td>\n",
              "    </tr>\n",
              "    <tr>\n",
              "      <th>...</th>\n",
              "      <td>...</td>\n",
              "      <td>...</td>\n",
              "      <td>...</td>\n",
              "      <td>...</td>\n",
              "      <td>...</td>\n",
              "      <td>...</td>\n",
              "      <td>...</td>\n",
              "      <td>...</td>\n",
              "      <td>...</td>\n",
              "      <td>...</td>\n",
              "      <td>...</td>\n",
              "      <td>...</td>\n",
              "      <td>...</td>\n",
              "      <td>...</td>\n",
              "      <td>...</td>\n",
              "      <td>...</td>\n",
              "      <td>...</td>\n",
              "      <td>...</td>\n",
              "      <td>...</td>\n",
              "      <td>...</td>\n",
              "      <td>...</td>\n",
              "    </tr>\n",
              "    <tr>\n",
              "      <th>38636</th>\n",
              "      <td>210060022373</td>\n",
              "      <td>2023</td>\n",
              "      <td>2</td>\n",
              "      <td>F</td>\n",
              "      <td>1</td>\n",
              "      <td>1</td>\n",
              "      <td>2</td>\n",
              "      <td>0</td>\n",
              "      <td>2</td>\n",
              "      <td>0</td>\n",
              "      <td>...</td>\n",
              "      <td>634.8</td>\n",
              "      <td>738.9</td>\n",
              "      <td>1.0</td>\n",
              "      <td>880.0</td>\n",
              "      <td>E</td>\n",
              "      <td>E</td>\n",
              "      <td>C</td>\n",
              "      <td>B</td>\n",
              "      <td>B</td>\n",
              "      <td>701.86</td>\n",
              "    </tr>\n",
              "    <tr>\n",
              "      <th>17130</th>\n",
              "      <td>210059933374</td>\n",
              "      <td>2023</td>\n",
              "      <td>4</td>\n",
              "      <td>F</td>\n",
              "      <td>4</td>\n",
              "      <td>3</td>\n",
              "      <td>2</td>\n",
              "      <td>0</td>\n",
              "      <td>2</td>\n",
              "      <td>0</td>\n",
              "      <td>...</td>\n",
              "      <td>387.7</td>\n",
              "      <td>414.1</td>\n",
              "      <td>1.0</td>\n",
              "      <td>380.0</td>\n",
              "      <td>H</td>\n",
              "      <td>H</td>\n",
              "      <td>C</td>\n",
              "      <td>B</td>\n",
              "      <td>B</td>\n",
              "      <td>407.18</td>\n",
              "    </tr>\n",
              "    <tr>\n",
              "      <th>22552</th>\n",
              "      <td>210059913002</td>\n",
              "      <td>2023</td>\n",
              "      <td>2</td>\n",
              "      <td>M</td>\n",
              "      <td>3</td>\n",
              "      <td>1</td>\n",
              "      <td>2</td>\n",
              "      <td>0</td>\n",
              "      <td>2</td>\n",
              "      <td>0</td>\n",
              "      <td>...</td>\n",
              "      <td>525.2</td>\n",
              "      <td>499.7</td>\n",
              "      <td>1.0</td>\n",
              "      <td>640.0</td>\n",
              "      <td>D</td>\n",
              "      <td>E</td>\n",
              "      <td>E</td>\n",
              "      <td>B</td>\n",
              "      <td>B</td>\n",
              "      <td>514.52</td>\n",
              "    </tr>\n",
              "    <tr>\n",
              "      <th>26146</th>\n",
              "      <td>210059329569</td>\n",
              "      <td>2023</td>\n",
              "      <td>1</td>\n",
              "      <td>F</td>\n",
              "      <td>3</td>\n",
              "      <td>1</td>\n",
              "      <td>2</td>\n",
              "      <td>0</td>\n",
              "      <td>2</td>\n",
              "      <td>0</td>\n",
              "      <td>...</td>\n",
              "      <td>617.6</td>\n",
              "      <td>624.2</td>\n",
              "      <td>1.0</td>\n",
              "      <td>860.0</td>\n",
              "      <td>E</td>\n",
              "      <td>H</td>\n",
              "      <td>B</td>\n",
              "      <td>A</td>\n",
              "      <td>B</td>\n",
              "      <td>620.98</td>\n",
              "    </tr>\n",
              "    <tr>\n",
              "      <th>979</th>\n",
              "      <td>210060450359</td>\n",
              "      <td>2023</td>\n",
              "      <td>3</td>\n",
              "      <td>F</td>\n",
              "      <td>2</td>\n",
              "      <td>1</td>\n",
              "      <td>2</td>\n",
              "      <td>0</td>\n",
              "      <td>2</td>\n",
              "      <td>0</td>\n",
              "      <td>...</td>\n",
              "      <td>605.2</td>\n",
              "      <td>469.4</td>\n",
              "      <td>1.0</td>\n",
              "      <td>620.0</td>\n",
              "      <td>D</td>\n",
              "      <td>E</td>\n",
              "      <td>C</td>\n",
              "      <td>A</td>\n",
              "      <td>B</td>\n",
              "      <td>545.92</td>\n",
              "    </tr>\n",
              "  </tbody>\n",
              "</table>\n",
              "<p>2125 rows × 35 columns</p>\n",
              "</div>\n",
              "    <div class=\"colab-df-buttons\">\n",
              "\n",
              "  <div class=\"colab-df-container\">\n",
              "    <button class=\"colab-df-convert\" onclick=\"convertToInteractive('df-9a319ce6-acf9-4f50-b514-97ae94a99428')\"\n",
              "            title=\"Convert this dataframe to an interactive table.\"\n",
              "            style=\"display:none;\">\n",
              "\n",
              "  <svg xmlns=\"http://www.w3.org/2000/svg\" height=\"24px\" viewBox=\"0 -960 960 960\">\n",
              "    <path d=\"M120-120v-720h720v720H120Zm60-500h600v-160H180v160Zm220 220h160v-160H400v160Zm0 220h160v-160H400v160ZM180-400h160v-160H180v160Zm440 0h160v-160H620v160ZM180-180h160v-160H180v160Zm440 0h160v-160H620v160Z\"/>\n",
              "  </svg>\n",
              "    </button>\n",
              "\n",
              "  <style>\n",
              "    .colab-df-container {\n",
              "      display:flex;\n",
              "      gap: 12px;\n",
              "    }\n",
              "\n",
              "    .colab-df-convert {\n",
              "      background-color: #E8F0FE;\n",
              "      border: none;\n",
              "      border-radius: 50%;\n",
              "      cursor: pointer;\n",
              "      display: none;\n",
              "      fill: #1967D2;\n",
              "      height: 32px;\n",
              "      padding: 0 0 0 0;\n",
              "      width: 32px;\n",
              "    }\n",
              "\n",
              "    .colab-df-convert:hover {\n",
              "      background-color: #E2EBFA;\n",
              "      box-shadow: 0px 1px 2px rgba(60, 64, 67, 0.3), 0px 1px 3px 1px rgba(60, 64, 67, 0.15);\n",
              "      fill: #174EA6;\n",
              "    }\n",
              "\n",
              "    .colab-df-buttons div {\n",
              "      margin-bottom: 4px;\n",
              "    }\n",
              "\n",
              "    [theme=dark] .colab-df-convert {\n",
              "      background-color: #3B4455;\n",
              "      fill: #D2E3FC;\n",
              "    }\n",
              "\n",
              "    [theme=dark] .colab-df-convert:hover {\n",
              "      background-color: #434B5C;\n",
              "      box-shadow: 0px 1px 3px 1px rgba(0, 0, 0, 0.15);\n",
              "      filter: drop-shadow(0px 1px 2px rgba(0, 0, 0, 0.3));\n",
              "      fill: #FFFFFF;\n",
              "    }\n",
              "  </style>\n",
              "\n",
              "    <script>\n",
              "      const buttonEl =\n",
              "        document.querySelector('#df-9a319ce6-acf9-4f50-b514-97ae94a99428 button.colab-df-convert');\n",
              "      buttonEl.style.display =\n",
              "        google.colab.kernel.accessAllowed ? 'block' : 'none';\n",
              "\n",
              "      async function convertToInteractive(key) {\n",
              "        const element = document.querySelector('#df-9a319ce6-acf9-4f50-b514-97ae94a99428');\n",
              "        const dataTable =\n",
              "          await google.colab.kernel.invokeFunction('convertToInteractive',\n",
              "                                                    [key], {});\n",
              "        if (!dataTable) return;\n",
              "\n",
              "        const docLinkHtml = 'Like what you see? Visit the ' +\n",
              "          '<a target=\"_blank\" href=https://colab.research.google.com/notebooks/data_table.ipynb>data table notebook</a>'\n",
              "          + ' to learn more about interactive tables.';\n",
              "        element.innerHTML = '';\n",
              "        dataTable['output_type'] = 'display_data';\n",
              "        await google.colab.output.renderOutput(dataTable, element);\n",
              "        const docLink = document.createElement('div');\n",
              "        docLink.innerHTML = docLinkHtml;\n",
              "        element.appendChild(docLink);\n",
              "      }\n",
              "    </script>\n",
              "  </div>\n",
              "\n",
              "\n",
              "<div id=\"df-c87bfa1c-6c74-49d3-b3ca-0dfa576829f2\">\n",
              "  <button class=\"colab-df-quickchart\" onclick=\"quickchart('df-c87bfa1c-6c74-49d3-b3ca-0dfa576829f2')\"\n",
              "            title=\"Suggest charts\"\n",
              "            style=\"display:none;\">\n",
              "\n",
              "<svg xmlns=\"http://www.w3.org/2000/svg\" height=\"24px\"viewBox=\"0 0 24 24\"\n",
              "     width=\"24px\">\n",
              "    <g>\n",
              "        <path d=\"M19 3H5c-1.1 0-2 .9-2 2v14c0 1.1.9 2 2 2h14c1.1 0 2-.9 2-2V5c0-1.1-.9-2-2-2zM9 17H7v-7h2v7zm4 0h-2V7h2v10zm4 0h-2v-4h2v4z\"/>\n",
              "    </g>\n",
              "</svg>\n",
              "  </button>\n",
              "\n",
              "<style>\n",
              "  .colab-df-quickchart {\n",
              "      --bg-color: #E8F0FE;\n",
              "      --fill-color: #1967D2;\n",
              "      --hover-bg-color: #E2EBFA;\n",
              "      --hover-fill-color: #174EA6;\n",
              "      --disabled-fill-color: #AAA;\n",
              "      --disabled-bg-color: #DDD;\n",
              "  }\n",
              "\n",
              "  [theme=dark] .colab-df-quickchart {\n",
              "      --bg-color: #3B4455;\n",
              "      --fill-color: #D2E3FC;\n",
              "      --hover-bg-color: #434B5C;\n",
              "      --hover-fill-color: #FFFFFF;\n",
              "      --disabled-bg-color: #3B4455;\n",
              "      --disabled-fill-color: #666;\n",
              "  }\n",
              "\n",
              "  .colab-df-quickchart {\n",
              "    background-color: var(--bg-color);\n",
              "    border: none;\n",
              "    border-radius: 50%;\n",
              "    cursor: pointer;\n",
              "    display: none;\n",
              "    fill: var(--fill-color);\n",
              "    height: 32px;\n",
              "    padding: 0;\n",
              "    width: 32px;\n",
              "  }\n",
              "\n",
              "  .colab-df-quickchart:hover {\n",
              "    background-color: var(--hover-bg-color);\n",
              "    box-shadow: 0 1px 2px rgba(60, 64, 67, 0.3), 0 1px 3px 1px rgba(60, 64, 67, 0.15);\n",
              "    fill: var(--button-hover-fill-color);\n",
              "  }\n",
              "\n",
              "  .colab-df-quickchart-complete:disabled,\n",
              "  .colab-df-quickchart-complete:disabled:hover {\n",
              "    background-color: var(--disabled-bg-color);\n",
              "    fill: var(--disabled-fill-color);\n",
              "    box-shadow: none;\n",
              "  }\n",
              "\n",
              "  .colab-df-spinner {\n",
              "    border: 2px solid var(--fill-color);\n",
              "    border-color: transparent;\n",
              "    border-bottom-color: var(--fill-color);\n",
              "    animation:\n",
              "      spin 1s steps(1) infinite;\n",
              "  }\n",
              "\n",
              "  @keyframes spin {\n",
              "    0% {\n",
              "      border-color: transparent;\n",
              "      border-bottom-color: var(--fill-color);\n",
              "      border-left-color: var(--fill-color);\n",
              "    }\n",
              "    20% {\n",
              "      border-color: transparent;\n",
              "      border-left-color: var(--fill-color);\n",
              "      border-top-color: var(--fill-color);\n",
              "    }\n",
              "    30% {\n",
              "      border-color: transparent;\n",
              "      border-left-color: var(--fill-color);\n",
              "      border-top-color: var(--fill-color);\n",
              "      border-right-color: var(--fill-color);\n",
              "    }\n",
              "    40% {\n",
              "      border-color: transparent;\n",
              "      border-right-color: var(--fill-color);\n",
              "      border-top-color: var(--fill-color);\n",
              "    }\n",
              "    60% {\n",
              "      border-color: transparent;\n",
              "      border-right-color: var(--fill-color);\n",
              "    }\n",
              "    80% {\n",
              "      border-color: transparent;\n",
              "      border-right-color: var(--fill-color);\n",
              "      border-bottom-color: var(--fill-color);\n",
              "    }\n",
              "    90% {\n",
              "      border-color: transparent;\n",
              "      border-bottom-color: var(--fill-color);\n",
              "    }\n",
              "  }\n",
              "</style>\n",
              "\n",
              "  <script>\n",
              "    async function quickchart(key) {\n",
              "      const quickchartButtonEl =\n",
              "        document.querySelector('#' + key + ' button');\n",
              "      quickchartButtonEl.disabled = true;  // To prevent multiple clicks.\n",
              "      quickchartButtonEl.classList.add('colab-df-spinner');\n",
              "      try {\n",
              "        const charts = await google.colab.kernel.invokeFunction(\n",
              "            'suggestCharts', [key], {});\n",
              "      } catch (error) {\n",
              "        console.error('Error during call to suggestCharts:', error);\n",
              "      }\n",
              "      quickchartButtonEl.classList.remove('colab-df-spinner');\n",
              "      quickchartButtonEl.classList.add('colab-df-quickchart-complete');\n",
              "    }\n",
              "    (() => {\n",
              "      let quickchartButtonEl =\n",
              "        document.querySelector('#df-c87bfa1c-6c74-49d3-b3ca-0dfa576829f2 button');\n",
              "      quickchartButtonEl.style.display =\n",
              "        google.colab.kernel.accessAllowed ? 'block' : 'none';\n",
              "    })();\n",
              "  </script>\n",
              "</div>\n",
              "\n",
              "  <div id=\"id_c498f4c7-7094-40e5-83f7-296c8d449ad0\">\n",
              "    <style>\n",
              "      .colab-df-generate {\n",
              "        background-color: #E8F0FE;\n",
              "        border: none;\n",
              "        border-radius: 50%;\n",
              "        cursor: pointer;\n",
              "        display: none;\n",
              "        fill: #1967D2;\n",
              "        height: 32px;\n",
              "        padding: 0 0 0 0;\n",
              "        width: 32px;\n",
              "      }\n",
              "\n",
              "      .colab-df-generate:hover {\n",
              "        background-color: #E2EBFA;\n",
              "        box-shadow: 0px 1px 2px rgba(60, 64, 67, 0.3), 0px 1px 3px 1px rgba(60, 64, 67, 0.15);\n",
              "        fill: #174EA6;\n",
              "      }\n",
              "\n",
              "      [theme=dark] .colab-df-generate {\n",
              "        background-color: #3B4455;\n",
              "        fill: #D2E3FC;\n",
              "      }\n",
              "\n",
              "      [theme=dark] .colab-df-generate:hover {\n",
              "        background-color: #434B5C;\n",
              "        box-shadow: 0px 1px 3px 1px rgba(0, 0, 0, 0.15);\n",
              "        filter: drop-shadow(0px 1px 2px rgba(0, 0, 0, 0.3));\n",
              "        fill: #FFFFFF;\n",
              "      }\n",
              "    </style>\n",
              "    <button class=\"colab-df-generate\" onclick=\"generateWithVariable('amostra_pub')\"\n",
              "            title=\"Generate code using this dataframe.\"\n",
              "            style=\"display:none;\">\n",
              "\n",
              "  <svg xmlns=\"http://www.w3.org/2000/svg\" height=\"24px\"viewBox=\"0 0 24 24\"\n",
              "       width=\"24px\">\n",
              "    <path d=\"M7,19H8.4L18.45,9,17,7.55,7,17.6ZM5,21V16.75L18.45,3.32a2,2,0,0,1,2.83,0l1.4,1.43a1.91,1.91,0,0,1,.58,1.4,1.91,1.91,0,0,1-.58,1.4L9.25,21ZM18.45,9,17,7.55Zm-12,3A5.31,5.31,0,0,0,4.9,8.1,5.31,5.31,0,0,0,1,6.5,5.31,5.31,0,0,0,4.9,4.9,5.31,5.31,0,0,0,6.5,1,5.31,5.31,0,0,0,8.1,4.9,5.31,5.31,0,0,0,12,6.5,5.46,5.46,0,0,0,6.5,12Z\"/>\n",
              "  </svg>\n",
              "    </button>\n",
              "    <script>\n",
              "      (() => {\n",
              "      const buttonEl =\n",
              "        document.querySelector('#id_c498f4c7-7094-40e5-83f7-296c8d449ad0 button.colab-df-generate');\n",
              "      buttonEl.style.display =\n",
              "        google.colab.kernel.accessAllowed ? 'block' : 'none';\n",
              "\n",
              "      buttonEl.onclick = () => {\n",
              "        google.colab.notebook.generateWithVariable('amostra_pub');\n",
              "      }\n",
              "      })();\n",
              "    </script>\n",
              "  </div>\n",
              "\n",
              "    </div>\n",
              "  </div>\n"
            ],
            "application/vnd.google.colaboratory.intrinsic+json": {
              "type": "dataframe",
              "variable_name": "amostra_pub"
            }
          },
          "metadata": {},
          "execution_count": 78
        }
      ]
    },
    {
      "cell_type": "code",
      "source": [
        "len(df_pub)"
      ],
      "metadata": {
        "colab": {
          "base_uri": "https://localhost:8080/"
        },
        "id": "NNviYrZliRZH",
        "outputId": "bbd39a3d-353c-4bda-ab16-2975386939a4"
      },
      "execution_count": null,
      "outputs": [
        {
          "output_type": "execute_result",
          "data": {
            "text/plain": [
              "16170"
            ]
          },
          "metadata": {},
          "execution_count": 79
        }
      ]
    },
    {
      "cell_type": "markdown",
      "source": [
        "# Visualização de dados"
      ],
      "metadata": {
        "id": "w0Gn8DY_p-hF"
      }
    },
    {
      "cell_type": "markdown",
      "source": [
        "## Coletando uma amostra piloto para estimar a variabiliadade das notas de alunos de escolas públicas"
      ],
      "metadata": {
        "id": "JjHynnlqRtme"
      }
    },
    {
      "cell_type": "code",
      "source": [
        "# Grouping the data by sex\n",
        "sex_grouped = amostra_pub.groupby(['TP_SEXO'])[['TP_SEXO']].count().rename(columns={'TP_SEXO': 'count'}).reset_index().sort_values(by=['count'], ascending=False)\n",
        "sex_grouped['pct'] = round(sex_grouped['count'] / np.sum(sex_grouped['count']) * 100, 2)\n",
        "\n",
        "# Bar plot using matplotlib\n",
        "def bar_plot(data, x_col, y_col, title, xlabel, ylabel='Percentage', figsize=(4, 3), title_pad=20, barwidth=0.7, bar_color=['#FFA07A', '#1E90FF'], invert_xaxis=False):\n",
        "    fig, ax = plt.subplots(figsize=figsize)\n",
        "\n",
        "    # Creating the bar plot\n",
        "    bars = ax.bar(data[x_col], data[y_col], width=barwidth, color=bar_color)\n",
        "\n",
        "    # Adding the labels and title\n",
        "    ax.set_xlabel(xlabel)\n",
        "    ax.set_ylabel(ylabel)\n",
        "    ax.set_title(title, pad=title_pad)\n",
        "\n",
        "    # Inverting x-axis if required\n",
        "    if invert_xaxis:\n",
        "        ax.invert_xaxis()\n",
        "\n",
        "    # Adding the percentage values on top of bars\n",
        "    for bar in bars:\n",
        "        height = bar.get_height()\n",
        "        ax.annotate(f'{height}%', xy=(bar.get_x() + bar.get_width() / 2, height),\n",
        "                    xytext=(0, 3),  # 3 points vertical offset\n",
        "                    textcoords=\"offset points\",\n",
        "                    ha='center', va='bottom')\n",
        "\n",
        "    plt.show()\n",
        "\n",
        "# Calling the bar_plot function\n",
        "bar_plot(sex_grouped, 'TP_SEXO', 'pct', 'Distribuição do sexo', 'Sexo',\n",
        "         figsize=(4, 3), title_pad=20, barwidth=0.7,\n",
        "         bar_color=['#FFA07A', '#1E90FF'], invert_xaxis=False)"
      ],
      "metadata": {
        "colab": {
          "base_uri": "https://localhost:8080/",
          "height": 353
        },
        "id": "pPhVf-3j9msr",
        "outputId": "f92b97f5-ed96-4f82-9f5a-327ee0c15980"
      },
      "execution_count": null,
      "outputs": [
        {
          "output_type": "display_data",
          "data": {
            "text/plain": [
              "<Figure size 400x300 with 1 Axes>"
            ],
            "image/png": "[encoded data removed]"
          },
          "metadata": {}
        }
      ]
    },
    {
      "cell_type": "markdown",
      "source": [
        "## Histogramas das notas da amostra selecionada por área"
      ],
      "metadata": {
        "id": "h64yCezlVgY9"
      }
    },
    {
      "cell_type": "code",
      "source": [
        "\n",
        "\n",
        "sns.displot(amostra_pub['NU_NOTA_REDACAO'], bins=25)\n",
        "sns.displot(amostra_pub['NU_NOTA_REDACAO'], kind='kde')"
      ],
      "metadata": {
        "colab": {
          "base_uri": "https://localhost:8080/",
          "height": 1000
        },
        "id": "wJtKk5ifpq-H",
        "outputId": "a03fba70-d3f8-40ba-8e52-91daf97d91ba"
      },
      "execution_count": null,
      "outputs": [
        {
          "output_type": "execute_result",
          "data": {
            "text/plain": [
              "<seaborn.axisgrid.FacetGrid at 0x79d0b7a440d0>"
            ]
          },
          "metadata": {},
          "execution_count": 81
        },
        {
          "output_type": "display_data",
          "data": {
            "text/plain": [
              "<Figure size 500x500 with 1 Axes>"
            ],
            "image/png": "[encoded data removed]"
          },
          "metadata": {}
        },
        {
          "output_type": "display_data",
          "data": {
            "text/plain": [
              "<Figure size 500x500 with 1 Axes>"
            ],
            "image/png": "[encoded data removed]"
          },
          "metadata": {}
        }
      ]
    },
    {
      "cell_type": "code",
      "source": [
        "sns.displot(amostra_pub['nota_media'], bins=25)\n",
        "sns.displot(amostra_pub['nota_media'], kind='kde')"
      ],
      "metadata": {
        "colab": {
          "base_uri": "https://localhost:8080/",
          "height": 1000
        },
        "id": "v2IwTuCOqAOh",
        "outputId": "32bdb8ce-e87d-4ebe-e6a3-04a31bb7d3c2"
      },
      "execution_count": null,
      "outputs": [
        {
          "output_type": "execute_result",
          "data": {
            "text/plain": [
              "<seaborn.axisgrid.FacetGrid at 0x79d0b1bf8eb0>"
            ]
          },
          "metadata": {},
          "execution_count": 82
        },
        {
          "output_type": "display_data",
          "data": {
            "text/plain": [
              "<Figure size 500x500 with 1 Axes>"
            ],
            "image/png": "[encoded data removed]"
          },
          "metadata": {}
        },
        {
          "output_type": "display_data",
          "data": {
            "text/plain": [
              "<Figure size 500x500 with 1 Axes>"
            ],
            "image/png": "[encoded data removed]"
          },
          "metadata": {}
        }
      ]
    },
    {
      "cell_type": "code",
      "source": [
        "sns.displot(amostra_pub['NU_NOTA_LC'], bins=25)\n",
        "sns.displot(amostra_pub['NU_NOTA_LC'], kind='kde')"
      ],
      "metadata": {
        "colab": {
          "base_uri": "https://localhost:8080/",
          "height": 1000
        },
        "id": "QlFoJgKoT4h0",
        "outputId": "b2d7c460-2da1-40cd-99f2-8542fd241b8b"
      },
      "execution_count": null,
      "outputs": [
        {
          "output_type": "execute_result",
          "data": {
            "text/plain": [
              "<seaborn.axisgrid.FacetGrid at 0x79d0b1d09420>"
            ]
          },
          "metadata": {},
          "execution_count": 83
        },
        {
          "output_type": "display_data",
          "data": {
            "text/plain": [
              "<Figure size 500x500 with 1 Axes>"
            ],
            "image/png": "[encoded data removed]"
          },
          "metadata": {}
        },
        {
          "output_type": "display_data",
          "data": {
            "text/plain": [
              "<Figure size 500x500 with 1 Axes>"
            ],
            "image/png": "[encoded data removed]"
          },
          "metadata": {}
        }
      ]
    },
    {
      "cell_type": "code",
      "source": [
        "sns.displot(amostra_pub['NU_NOTA_MT'], bins=25)\n",
        "sns.displot(amostra_pub['NU_NOTA_MT'], kind='kde')"
      ],
      "metadata": {
        "colab": {
          "base_uri": "https://localhost:8080/",
          "height": 1000
        },
        "id": "GZdn-wS3UCVq",
        "outputId": "de96d297-1890-4fdc-b7b4-28ae9d97f8c1"
      },
      "execution_count": null,
      "outputs": [
        {
          "output_type": "execute_result",
          "data": {
            "text/plain": [
              "<seaborn.axisgrid.FacetGrid at 0x79d0b1a6fbe0>"
            ]
          },
          "metadata": {},
          "execution_count": 84
        },
        {
          "output_type": "display_data",
          "data": {
            "text/plain": [
              "<Figure size 500x500 with 1 Axes>"
            ],
            "image/png": "[encoded data removed]"
          },
          "metadata": {}
        },
        {
          "output_type": "display_data",
          "data": {
            "text/plain": [
              "<Figure size 500x500 with 1 Axes>"
            ],
            "image/png": "[encoded data removed]"
          },
          "metadata": {}
        }
      ]
    },
    {
      "cell_type": "code",
      "source": [
        "sns.displot(amostra_pub['NU_NOTA_CN'], bins=25)\n",
        "sns.displot(amostra_pub['NU_NOTA_CN'], kind='kde')"
      ],
      "metadata": {
        "colab": {
          "base_uri": "https://localhost:8080/",
          "height": 1000
        },
        "id": "elAfgLT4UIxr",
        "outputId": "cf8456a6-6d08-4ff1-c7be-22c6b202af11"
      },
      "execution_count": null,
      "outputs": [
        {
          "output_type": "execute_result",
          "data": {
            "text/plain": [
              "<seaborn.axisgrid.FacetGrid at 0x79d0b1930dc0>"
            ]
          },
          "metadata": {},
          "execution_count": 85
        },
        {
          "output_type": "display_data",
          "data": {
            "text/plain": [
              "<Figure size 500x500 with 1 Axes>"
            ],
            "image/png": "[encoded data removed]"
          },
          "metadata": {}
        },
        {
          "output_type": "display_data",
          "data": {
            "text/plain": [
              "<Figure size 500x500 with 1 Axes>"
            ],
            "image/png": "[encoded data removed]"
          },
          "metadata": {}
        }
      ]
    },
    {
      "cell_type": "code",
      "source": [
        "sns.displot(amostra_pub['NU_NOTA_CH'], bins=25)\n",
        "sns.displot(amostra_pub['NU_NOTA_CH'], kind='kde')"
      ],
      "metadata": {
        "colab": {
          "base_uri": "https://localhost:8080/",
          "height": 1000
        },
        "id": "qYhoiD8dUNG3",
        "outputId": "5a324ba4-5640-4479-9793-fe9abe321a3e"
      },
      "execution_count": null,
      "outputs": [
        {
          "output_type": "execute_result",
          "data": {
            "text/plain": [
              "<seaborn.axisgrid.FacetGrid at 0x79d0b17ec790>"
            ]
          },
          "metadata": {},
          "execution_count": 86
        },
        {
          "output_type": "display_data",
          "data": {
            "text/plain": [
              "<Figure size 500x500 with 1 Axes>"
            ],
            "image/png": "[encoded data removed]"
          },
          "metadata": {}
        },
        {
          "output_type": "display_data",
          "data": {
            "text/plain": [
              "<Figure size 500x500 with 1 Axes>"
            ],
            "image/png": "[encoded data removed]"
          },
          "metadata": {}
        }
      ]
    },
    {
      "cell_type": "markdown",
      "source": [
        "### Box-plots da população por tipo de escola"
      ],
      "metadata": {
        "id": "jA_SqRjTVTNz"
      }
    },
    {
      "cell_type": "code",
      "source": [
        " ax = sns.boxplot( x=\"TP_ESCOLA\", y='NU_NOTA_REDACAO',\n",
        "                 data=df, palette=\"Set3\")\n",
        "# pelo dicionário de microdados TP_ESCOLA = 1 não responderam, TP_ESCOLA=2 estudaram em escola pública e TP_ESCOLA=3 estudaram em escola privada"
      ],
      "metadata": {
        "colab": {
          "base_uri": "https://localhost:8080/",
          "height": 560
        },
        "id": "GojBlTHUILky",
        "outputId": "fa43f8f4-1672-4b94-f114-2c398c2af2e2"
      },
      "execution_count": null,
      "outputs": [
        {
          "output_type": "stream",
          "name": "stderr",
          "text": [
            "<ipython-input-87-88f8a371c77c>:1: FutureWarning: \n",
            "\n",
            "Passing `palette` without assigning `hue` is deprecated and will be removed in v0.14.0. Assign the `x` variable to `hue` and set `legend=False` for the same effect.\n",
            "\n",
            "  ax = sns.boxplot( x=\"TP_ESCOLA\", y='NU_NOTA_REDACAO',\n"
          ]
        },
        {
          "output_type": "display_data",
          "data": {
            "text/plain": [
              "<Figure size 640x480 with 1 Axes>"
            ],
            "image/png": "[encoded data removed]"
          },
          "metadata": {}
        }
      ]
    },
    {
      "cell_type": "code",
      "source": [
        " ax = sns.boxplot( x=\"TP_ESCOLA\", y='NU_NOTA_MT',\n",
        "                 data=df, palette=\"Set3\")"
      ],
      "metadata": {
        "colab": {
          "base_uri": "https://localhost:8080/",
          "height": 564
        },
        "id": "QAsxANASOChW",
        "outputId": "80164821-1081-4e72-a807-1fdd2880a181"
      },
      "execution_count": null,
      "outputs": [
        {
          "output_type": "stream",
          "name": "stderr",
          "text": [
            "<ipython-input-88-f8beb6fee2df>:1: FutureWarning: \n",
            "\n",
            "Passing `palette` without assigning `hue` is deprecated and will be removed in v0.14.0. Assign the `x` variable to `hue` and set `legend=False` for the same effect.\n",
            "\n",
            "  ax = sns.boxplot( x=\"TP_ESCOLA\", y='NU_NOTA_MT',\n"
          ]
        },
        {
          "output_type": "display_data",
          "data": {
            "text/plain": [
              "<Figure size 640x480 with 1 Axes>"
            ],
            "image/png": "[encoded data removed]"
          },
          "metadata": {}
        }
      ]
    },
    {
      "cell_type": "code",
      "source": [
        " ax = sns.boxplot( x=\"TP_ESCOLA\", y='NU_NOTA_LC',\n",
        "                 data=df, palette=\"Set3\")"
      ],
      "metadata": {
        "colab": {
          "base_uri": "https://localhost:8080/",
          "height": 560
        },
        "id": "x2xlGTiVOJOJ",
        "outputId": "f61c0547-fd1b-49e9-ed0b-b88e2f968651"
      },
      "execution_count": null,
      "outputs": [
        {
          "output_type": "stream",
          "name": "stderr",
          "text": [
            "<ipython-input-89-922ee66d518b>:1: FutureWarning: \n",
            "\n",
            "Passing `palette` without assigning `hue` is deprecated and will be removed in v0.14.0. Assign the `x` variable to `hue` and set `legend=False` for the same effect.\n",
            "\n",
            "  ax = sns.boxplot( x=\"TP_ESCOLA\", y='NU_NOTA_LC',\n"
          ]
        },
        {
          "output_type": "display_data",
          "data": {
            "text/plain": [
              "<Figure size 640x480 with 1 Axes>"
            ],
            "image/png": "[encoded data removed]"
          },
          "metadata": {}
        }
      ]
    },
    {
      "cell_type": "code",
      "source": [
        " ax = sns.boxplot( x=\"TP_ESCOLA\", y='NU_NOTA_CN',\n",
        "                 data=df, palette=\"Set3\")"
      ],
      "metadata": {
        "colab": {
          "base_uri": "https://localhost:8080/",
          "height": 560
        },
        "id": "IbQ4FCEnPBJ0",
        "outputId": "5cd82e2a-8edf-4f94-baab-91fc88d3bfbc"
      },
      "execution_count": null,
      "outputs": [
        {
          "output_type": "stream",
          "name": "stderr",
          "text": [
            "<ipython-input-90-590633797958>:1: FutureWarning: \n",
            "\n",
            "Passing `palette` without assigning `hue` is deprecated and will be removed in v0.14.0. Assign the `x` variable to `hue` and set `legend=False` for the same effect.\n",
            "\n",
            "  ax = sns.boxplot( x=\"TP_ESCOLA\", y='NU_NOTA_CN',\n"
          ]
        },
        {
          "output_type": "display_data",
          "data": {
            "text/plain": [
              "<Figure size 640x480 with 1 Axes>"
            ],
            "image/png": "[encoded data removed]"
          },
          "metadata": {}
        }
      ]
    },
    {
      "cell_type": "code",
      "source": [
        " ax = sns.boxplot( x=\"TP_ESCOLA\", y='NU_NOTA_CH',\n",
        "                 data=df, palette=\"Set3\")"
      ],
      "metadata": {
        "colab": {
          "base_uri": "https://localhost:8080/",
          "height": 560
        },
        "id": "ifzOV9IpPLqS",
        "outputId": "1ecca31f-7cc4-468e-e369-c50c3495c5eb"
      },
      "execution_count": null,
      "outputs": [
        {
          "output_type": "stream",
          "name": "stderr",
          "text": [
            "<ipython-input-91-bf1a54d462ea>:1: FutureWarning: \n",
            "\n",
            "Passing `palette` without assigning `hue` is deprecated and will be removed in v0.14.0. Assign the `x` variable to `hue` and set `legend=False` for the same effect.\n",
            "\n",
            "  ax = sns.boxplot( x=\"TP_ESCOLA\", y='NU_NOTA_CH',\n"
          ]
        },
        {
          "output_type": "display_data",
          "data": {
            "text/plain": [
              "<Figure size 640x480 with 1 Axes>"
            ],
            "image/png": "[encoded data removed]"
          },
          "metadata": {}
        }
      ]
    },
    {
      "cell_type": "markdown",
      "source": [
        "# Testes de Hipóteses"
      ],
      "metadata": {
        "id": "G39KY2CSVsXG"
      }
    },
    {
      "cell_type": "markdown",
      "source": [
        "Vamos testar:\n",
        "Hipótese Central:\n",
        "- nota média geral das escolas públicas igual a 520 vs maior que 520.\n",
        "\n",
        "Hipóteses secundárias:\n",
        "- nota média das escolas públicas na redação igual a 650 vs maior que 650.\n",
        "- nota média das escolas públicas na linguagens igual a 510 vs maior que 510.\n",
        "- nota média das escolas públicas na matemática igual a 500 vs maior que 500.\n",
        "\n"
      ],
      "metadata": {
        "id": "_m7TyUDYLfQb"
      }
    },
    {
      "cell_type": "code",
      "source": [
        "# Testar a média geral\n",
        "\n",
        "xbarra = np.mean(amostra_pub['nota_media']) # Indivíduos elegiveis\n",
        "mu0 = 520\n",
        "sigma = np.sqrt(np.var(amostra_pub['nota_media'])*len(amostra_pub) / (len(amostra_pub)-1))\n",
        "n= len(amostra_pub)\n",
        "f = n / len(df_pub)\n",
        "\n",
        "xc = mu0 + norm.ppf(0.95)*(np.sqrt((1 - f))*sigma/np.sqrt(n))\n",
        "\n",
        "print('X barra:', np.round(xbarra,2))\n",
        "print('RC = {xbarra >', np.round(xc,2), '}')"
      ],
      "metadata": {
        "colab": {
          "base_uri": "https://localhost:8080/"
        },
        "id": "JY8m_-lUr-41",
        "outputId": "0ed9a602-7a4d-4ff6-fcee-e494379e7826"
      },
      "execution_count": null,
      "outputs": [
        {
          "output_type": "stream",
          "name": "stdout",
          "text": [
            "X barra: 534.42\n",
            "RC = {xbarra > 522.64 }\n"
          ]
        }
      ]
    },
    {
      "cell_type": "code",
      "source": [
        "# x barra\n",
        "\n",
        "if xbarra > xc: print ('Rejeito H0')\n",
        "else: print('Não rejeito H0')"
      ],
      "metadata": {
        "colab": {
          "base_uri": "https://localhost:8080/"
        },
        "id": "OhhNm_1PtlDk",
        "outputId": "b1fb4310-4d56-4494-d0cb-f7b0ee5af2a2"
      },
      "execution_count": null,
      "outputs": [
        {
          "output_type": "stream",
          "name": "stdout",
          "text": [
            "Rejeito H0\n"
          ]
        }
      ]
    },
    {
      "cell_type": "code",
      "source": [
        "# Nível descritivo do teste\n",
        "\n",
        "z_obs = (xbarra - mu0)/(np.sqrt((1 - f))*sigma/np.sqrt(n))\n",
        "\n",
        "print(z_obs)\n",
        "print('valor-p', np.round(1 - norm.cdf(z_obs),6))"
      ],
      "metadata": {
        "colab": {
          "base_uri": "https://localhost:8080/"
        },
        "id": "Pw2z_cnktpXX",
        "outputId": "b859acc1-c57f-42c7-ec7b-25f5f0ee6a69"
      },
      "execution_count": null,
      "outputs": [
        {
          "output_type": "stream",
          "name": "stdout",
          "text": [
            "8.9797681998233\n",
            "valor-p 0.0\n"
          ]
        }
      ]
    },
    {
      "cell_type": "code",
      "source": [
        "# Testando a média da redação\n",
        "\n",
        "xbarra = amostra_pub.loc[amostra_pub['TP_STATUS_REDACAO'] == 1, 'NU_NOTA_REDACAO'].mean(skipna=True) # Indivíduos elegiveis\n",
        "mu0 = 650\n",
        "amostra_filtrada = amostra_pub.loc[amostra_pub['TP_STATUS_REDACAO'] == 1]\n",
        "sigma = np.sqrt(np.var(amostra_filtrada['NU_NOTA_REDACAO'])*len(amostra_filtrada) / (len(amostra_filtrada)-1))\n",
        "n= len(amostra_filtrada)\n",
        "f = n / len(df_pub)\n",
        "\n",
        "xc = mu0 + norm.ppf(0.95)*(np.sqrt((1 - f))*sigma/np.sqrt(n))\n",
        "\n",
        "print('X barra:', np.round(xbarra,2))\n",
        "print('RC = {xbarra >', np.round(xc,2), '}')"
      ],
      "metadata": {
        "id": "SnrCrhcuLzxE",
        "colab": {
          "base_uri": "https://localhost:8080/"
        },
        "outputId": "08cb545b-d48e-4568-db94-0c7ab65250d5"
      },
      "execution_count": null,
      "outputs": [
        {
          "output_type": "stream",
          "name": "stdout",
          "text": [
            "X barra: 661.74\n",
            "RC = {xbarra > 655.54 }\n"
          ]
        }
      ]
    },
    {
      "cell_type": "code",
      "source": [
        "# x barra\n",
        "\n",
        "if xbarra > xc: print ('Rejeito H0')\n",
        "else: print('Não rejeito H0')"
      ],
      "metadata": {
        "colab": {
          "base_uri": "https://localhost:8080/"
        },
        "id": "hDrgvbismSA5",
        "outputId": "2559c225-b497-49ce-b9b0-1ba0473ae4ed"
      },
      "execution_count": null,
      "outputs": [
        {
          "output_type": "stream",
          "name": "stdout",
          "text": [
            "Rejeito H0\n"
          ]
        }
      ]
    },
    {
      "cell_type": "code",
      "source": [
        "# Nível descritivo do teste\n",
        "\n",
        "z_obs = (xbarra - mu0)/(np.sqrt((1 - f))*sigma/np.sqrt(n))\n",
        "\n",
        "print(z_obs)\n",
        "print('valor-p', np.round(1 - norm.cdf(z_obs),6))"
      ],
      "metadata": {
        "colab": {
          "base_uri": "https://localhost:8080/"
        },
        "id": "QXs2J8hvntbO",
        "outputId": "107ab62f-77b2-4c68-c90b-3e08455ce43b"
      },
      "execution_count": null,
      "outputs": [
        {
          "output_type": "stream",
          "name": "stdout",
          "text": [
            "3.482406906643424\n",
            "valor-p 0.000248\n"
          ]
        }
      ]
    },
    {
      "cell_type": "code",
      "source": [
        "# Testar a média em linguagens\n",
        "\n",
        "xbarra = np.mean(amostra_pub['NU_NOTA_LC']) # Indivíduos elegiveis\n",
        "mu0 = 510\n",
        "sigma = np.sqrt(np.var(amostra_pub['NU_NOTA_LC'])*len(amostra_pub) / (len(amostra_pub)-1))\n",
        "n= len(amostra_pub)\n",
        "f = n / len(df_pub)\n",
        "\n",
        "xc = mu0 + norm.ppf(0.95)*(sigma*np.sqrt((1 - f))/np.sqrt(n))\n",
        "\n",
        "print('X barra:', np.round(xbarra,2))\n",
        "print('RC = {xbarra >', np.round(xc,2), '}')"
      ],
      "metadata": {
        "colab": {
          "base_uri": "https://localhost:8080/"
        },
        "id": "ZLCT1MaMybWl",
        "outputId": "5b9f701d-3ebd-407e-adb2-8ba54abf8ae0"
      },
      "execution_count": null,
      "outputs": [
        {
          "output_type": "stream",
          "name": "stdout",
          "text": [
            "X barra: 512.39\n",
            "RC = {xbarra > 512.22 }\n"
          ]
        }
      ]
    },
    {
      "cell_type": "code",
      "source": [
        "# x barra\n",
        "\n",
        "if xbarra > xc: print ('Rejeito H0')\n",
        "else: print('Não rejeito H0')"
      ],
      "metadata": {
        "colab": {
          "base_uri": "https://localhost:8080/"
        },
        "id": "9UDDOGJoysa9",
        "outputId": "6128a181-ee67-4fd6-e64a-0386da2e4bb7"
      },
      "execution_count": null,
      "outputs": [
        {
          "output_type": "stream",
          "name": "stdout",
          "text": [
            "Rejeito H0\n"
          ]
        }
      ]
    },
    {
      "cell_type": "code",
      "source": [
        "# Nível descritivo do teste\n",
        "\n",
        "z_obs = (xbarra - mu0)/(np.sqrt((1 - f))*sigma/np.sqrt(n))\n",
        "\n",
        "print(z_obs)\n",
        "print('valor-p', np.round(1 - norm.cdf(z_obs),6))"
      ],
      "metadata": {
        "colab": {
          "base_uri": "https://localhost:8080/"
        },
        "id": "e394gppQyu7K",
        "outputId": "1daf9727-6e4c-4d9e-abe9-15bdfeb8fdea"
      },
      "execution_count": null,
      "outputs": [
        {
          "output_type": "stream",
          "name": "stdout",
          "text": [
            "1.7709293246892786\n",
            "valor-p 0.038286\n"
          ]
        }
      ]
    },
    {
      "cell_type": "code",
      "source": [
        "# Testar a média em matemática\n",
        "\n",
        "xbarra = np.mean(amostra_pub['NU_NOTA_MT']) # Indivíduos elegiveis\n",
        "mu0 = 500\n",
        "sigma = np.sqrt(np.var(amostra_pub['NU_NOTA_MT'])*len(amostra_pub) / (len(amostra_pub)-1))\n",
        "n= len(amostra_pub)\n",
        "f = n / len(df_pub)\n",
        "\n",
        "xc = mu0 + norm.ppf(0.95)*(sigma*np.sqrt((1 - f))/np.sqrt(n))\n",
        "\n",
        "print('X barra:', np.round(xbarra,2))\n",
        "print('RC = {xbarra >', np.round(xc,2), '}')"
      ],
      "metadata": {
        "colab": {
          "base_uri": "https://localhost:8080/"
        },
        "id": "rrrCDf0vzIjM",
        "outputId": "c4956a9c-311d-4cc7-854e-6cb72ad176bd"
      },
      "execution_count": null,
      "outputs": [
        {
          "output_type": "stream",
          "name": "stdout",
          "text": [
            "X barra: 511.83\n",
            "RC = {xbarra > 503.71 }\n"
          ]
        }
      ]
    },
    {
      "cell_type": "code",
      "source": [
        "# x barra\n",
        "\n",
        "if xbarra > xc: print ('Rejeito H0')\n",
        "else: print('Não rejeito H0')"
      ],
      "metadata": {
        "colab": {
          "base_uri": "https://localhost:8080/"
        },
        "id": "4VS9szL2zXpx",
        "outputId": "4db20d01-e16c-468d-fb32-67aea37c4324"
      },
      "execution_count": null,
      "outputs": [
        {
          "output_type": "stream",
          "name": "stdout",
          "text": [
            "Rejeito H0\n"
          ]
        }
      ]
    },
    {
      "cell_type": "code",
      "source": [
        "# Nível descritivo do teste\n",
        "\n",
        "z_obs = (xbarra - mu0)/(np.sqrt((1 - f))*sigma/np.sqrt(n))\n",
        "\n",
        "print(z_obs)\n",
        "print('valor-p', np.round(1 - norm.cdf(z_obs),6))"
      ],
      "metadata": {
        "colab": {
          "base_uri": "https://localhost:8080/"
        },
        "id": "hlJeki7gzYzK",
        "outputId": "eda13e6c-5c21-4c90-a561-c5cc002e9b2e"
      },
      "execution_count": null,
      "outputs": [
        {
          "output_type": "stream",
          "name": "stdout",
          "text": [
            "5.248696646946566\n",
            "valor-p 0.0\n"
          ]
        }
      ]
    },
    {
      "cell_type": "code",
      "source": [
        "# como temos os dados da população, vamos verificar se mu está proximo de xbarra\n",
        "# e conferir se esse plano amostral teve um bom desempenho\n",
        "\n",
        "mu_media_geral = np.mean(df_pub['nota_media'])\n",
        "# X barra media geral: 526.14\n",
        "\n",
        "\n",
        "mu_redacao = df.loc[df_pub['TP_STATUS_REDACAO'] == 1, 'NU_NOTA_REDACAO'].mean(skipna=True)\n",
        "\n",
        "mu_linguagens = np.mean(df_pub['NU_NOTA_LC'])\n",
        "#X barra para linguagens: 508.83\n",
        "\n",
        "mu_matematica = np.mean(df_pub['NU_NOTA_MT'])\n",
        "#X barra para matematica: 506.92"
      ],
      "metadata": {
        "id": "4-WRbZTN64JG"
      },
      "execution_count": null,
      "outputs": []
    }
  ]
}